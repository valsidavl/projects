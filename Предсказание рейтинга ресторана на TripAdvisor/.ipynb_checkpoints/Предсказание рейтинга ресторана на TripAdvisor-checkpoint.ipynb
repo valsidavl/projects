{
 "cells": [
  {
   "cell_type": "code",
   "execution_count": 1,
   "metadata": {},
   "outputs": [],
   "source": [
    "import numpy as np\n",
    "import pandas as pd\n",
    "import matplotlib.pyplot as plt\n",
    "import seaborn as sns\n",
    "import scipy.stats\n",
    "%matplotlib inline\n",
    "from bs4 import BeautifulSoup\n",
    "import urllib\n",
    "import re\n",
    "from scipy.stats import mode\n",
    "from datetime import timedelta\n",
    "from math import modf\n",
    "from sklearn.preprocessing import PolynomialFeatures\n",
    "\n",
    "sns.set()\n",
    "\n",
    "pd.set_option('display.max_rows', 450)  # показывать больше строк\n",
    "pd.set_option('display.max_columns', 150)  # показывать больше колонок"
   ]
  },
  {
   "cell_type": "markdown",
   "metadata": {},
   "source": [
    "Выгружаем датасет в переменную df"
   ]
  },
  {
   "cell_type": "code",
   "execution_count": 2,
   "metadata": {},
   "outputs": [],
   "source": [
    "df = pd.read_csv('main_task.csv')"
   ]
  },
  {
   "cell_type": "markdown",
   "metadata": {},
   "source": [
    "Смотрим на количество пропусков в данных"
   ]
  },
  {
   "cell_type": "code",
   "execution_count": 3,
   "metadata": {
    "scrolled": true
   },
   "outputs": [
    {
     "name": "stdout",
     "output_type": "stream",
     "text": [
      "<class 'pandas.core.frame.DataFrame'>\n",
      "RangeIndex: 40000 entries, 0 to 39999\n",
      "Data columns (total 10 columns):\n",
      " #   Column             Non-Null Count  Dtype  \n",
      "---  ------             --------------  -----  \n",
      " 0   Restaurant_id      40000 non-null  object \n",
      " 1   City               40000 non-null  object \n",
      " 2   Cuisine Style      30717 non-null  object \n",
      " 3   Ranking            40000 non-null  float64\n",
      " 4   Rating             40000 non-null  float64\n",
      " 5   Price Range        26114 non-null  object \n",
      " 6   Number of Reviews  37457 non-null  float64\n",
      " 7   Reviews            40000 non-null  object \n",
      " 8   URL_TA             40000 non-null  object \n",
      " 9   ID_TA              40000 non-null  object \n",
      "dtypes: float64(3), object(7)\n",
      "memory usage: 3.1+ MB\n"
     ]
    }
   ],
   "source": [
    "df.info()"
   ]
  },
  {
   "cell_type": "markdown",
   "metadata": {},
   "source": [
    "Распарсим данные с сайта для столбца диапазона цен"
   ]
  },
  {
   "cell_type": "code",
   "execution_count": null,
   "metadata": {},
   "outputs": [],
   "source": [
    "def fill_price_range(row):\n",
    "\n",
    "    if pd.isnull(row['Price Range']):\n",
    "        try:\n",
    "            url = 'https://www.tripadvisor.ru' + row['URL_TA']\n",
    "            html_doc = urllib.request.urlopen(url).read()\n",
    "            soup = BeautifulSoup(html_doc)\n",
    "        except:\n",
    "            row['Price Range'] = 'no data'\n",
    "            return row\n",
    "\n",
    "        try:\n",
    "            parsed_html = str(soup.find_all('div', '_1ud-0ITN')[0])\n",
    "            pattern = re.compile('[$]{1,3}\\s?-?\\s?[$]*')\n",
    "            text = re.findall(pattern, parsed_html)\n",
    "        except:\n",
    "            pass\n",
    "        try:\n",
    "            row['Price Range'] = text[0]\n",
    "        except:\n",
    "            row['Price Range'] = 'no data'\n",
    "\n",
    "    return row\n",
    "\n",
    "\n",
    "df = df.apply(fill_price_range, axis=1)"
   ]
  },
  {
   "cell_type": "code",
   "execution_count": 3,
   "metadata": {},
   "outputs": [],
   "source": [
    "df.loc[:, 'Price Range'] = df['Price Range'].map({\n",
    "    'no data': 0,\n",
    "    '$$ - $$$': 2,\n",
    "    '$': 1,\n",
    "    '$$$$': 3\n",
    "})\n",
    "#df.to_csv('main_parsed_data.csv')"
   ]
  },
  {
   "cell_type": "markdown",
   "metadata": {},
   "source": [
    "Чтобы каждый раз не парсить сайт, сохраняем частично заполненный датасет в файле main_parsed_data.csv"
   ]
  },
  {
   "cell_type": "code",
   "execution_count": 18,
   "metadata": {},
   "outputs": [],
   "source": [
    "df = pd.read_csv('main_parsed_data.csv', index_col=0)"
   ]
  },
  {
   "cell_type": "code",
   "execution_count": 19,
   "metadata": {},
   "outputs": [
    {
     "name": "stdout",
     "output_type": "stream",
     "text": [
      "<class 'pandas.core.frame.DataFrame'>\n",
      "Int64Index: 40000 entries, 0 to 39999\n",
      "Data columns (total 10 columns):\n",
      " #   Column             Non-Null Count  Dtype  \n",
      "---  ------             --------------  -----  \n",
      " 0   Restaurant_id      40000 non-null  object \n",
      " 1   City               40000 non-null  object \n",
      " 2   Cuisine Style      30717 non-null  object \n",
      " 3   Ranking            40000 non-null  float64\n",
      " 4   Rating             40000 non-null  float64\n",
      " 5   Price Range        40000 non-null  int64  \n",
      " 6   Number of Reviews  37457 non-null  float64\n",
      " 7   Reviews            40000 non-null  object \n",
      " 8   URL_TA             40000 non-null  object \n",
      " 9   ID_TA              40000 non-null  object \n",
      "dtypes: float64(3), int64(1), object(6)\n",
      "memory usage: 3.4+ MB\n"
     ]
    },
    {
     "data": {
      "text/plain": [
       "None"
      ]
     },
     "metadata": {},
     "output_type": "display_data"
    },
    {
     "data": {
      "text/plain": [
       "2    22039\n",
       "1     8961\n",
       "0     7454\n",
       "3     1546\n",
       "Name: Price Range, dtype: int64"
      ]
     },
     "metadata": {},
     "output_type": "display_data"
    }
   ],
   "source": [
    "display(df.info())\n",
    "display(df['Price Range'].value_counts())"
   ]
  },
  {
   "cell_type": "markdown",
   "metadata": {},
   "source": [
    "В результате парсинга удалось заполнить примерно половину всех значений"
   ]
  },
  {
   "cell_type": "markdown",
   "metadata": {},
   "source": [
    "Возьмем с сайта информацию об общем количестве ресторанов по городам"
   ]
  },
  {
   "cell_type": "code",
   "execution_count": 6,
   "metadata": {},
   "outputs": [],
   "source": [
    "cities = df.City.unique()"
   ]
  },
  {
   "cell_type": "code",
   "execution_count": 7,
   "metadata": {},
   "outputs": [],
   "source": [
    "restaurant_number = {}\n",
    "for city in cities:\n",
    "    url = 'https://www.tripadvisor.ru' + df[df.City == city].URL_TA.iloc[0]\n",
    "    html_doc = urllib.request.urlopen(url).read()\n",
    "    soup = BeautifulSoup(html_doc)\n",
    "    try:\n",
    "        try:\n",
    "            parsed_html = str(soup.find_all('div', '_3-W4EexF')[1])\n",
    "        except:\n",
    "            parsed_html = str(soup.find_all('div', '_3-W4EexF')[0])\n",
    "    except:\n",
    "        restaurant_number[city] = None\n",
    "        continue\n",
    "    pattern = re.compile('из \\d*\\s?\\d*')\n",
    "    text = re.findall(pattern, parsed_html)[0]\n",
    "    pattern = re.compile('\\d+')\n",
    "    text = re.findall(pattern, text)\n",
    "    text = int(''.join(text))\n",
    "    restaurant_number[city] = text"
   ]
  },
  {
   "cell_type": "markdown",
   "metadata": {},
   "source": [
    "Дозаполним ошибочную информацию с сайта вручную"
   ]
  },
  {
   "cell_type": "code",
   "execution_count": 8,
   "metadata": {},
   "outputs": [],
   "source": [
    "restaurant_number['Amsterdam'] = 3625\n",
    "restaurant_number['Budapest'] = 2720\n",
    "restaurant_number['Lisbon'] = 4417\n",
    "restaurant_number['Brussels'] = 2356"
   ]
  },
  {
   "cell_type": "code",
   "execution_count": 23,
   "metadata": {},
   "outputs": [],
   "source": [
    "#df.to_csv('new_parsed_data.csv')"
   ]
  },
  {
   "cell_type": "code",
   "execution_count": 24,
   "metadata": {},
   "outputs": [],
   "source": [
    "df = pd.read_csv('new_parsed_data.csv', index_col=0)"
   ]
  },
  {
   "cell_type": "markdown",
   "metadata": {},
   "source": [
    "Так как городов всего 31, заполним вручную статистические показатели о населении городов"
   ]
  },
  {
   "cell_type": "code",
   "execution_count": null,
   "metadata": {},
   "outputs": [
    {
     "name": "stdout",
     "output_type": "stream",
     "text": [
      "Paris\n"
     ]
    }
   ],
   "source": [
    "city_information = {}\n",
    "for city in cities:\n",
    "    print(city)\n",
    "    population_density = input('Введите данные о плотности населения:')\n",
    "    population_number = input('Введите численность населения:')\n",
    "    city_information[city] = [population_density, population_number]"
   ]
  },
  {
   "cell_type": "markdown",
   "metadata": {},
   "source": [
    "Эту информацию также следует сохранить в файл, чтобы каждый раз не вводить значения вручную"
   ]
  },
  {
   "cell_type": "code",
   "execution_count": null,
   "metadata": {},
   "outputs": [],
   "source": [
    "#city_information.to_csv('city_information.csv')"
   ]
  },
  {
   "cell_type": "code",
   "execution_count": 9,
   "metadata": {},
   "outputs": [],
   "source": [
    "city_information = pd.read_csv('city_information.csv', index_col=0)"
   ]
  },
  {
   "cell_type": "markdown",
   "metadata": {},
   "source": [
    "Перенесем информацию в датасет"
   ]
  },
  {
   "cell_type": "code",
   "execution_count": 10,
   "metadata": {},
   "outputs": [],
   "source": [
    "df.loc[:, 'Population Density'] = 0\n",
    "df.loc[:, 'Population Number'] = 0\n",
    "\n",
    "\n",
    "def create_population_features(row):\n",
    "    row['Population Density'] = city_information.loc[row['City'],\n",
    "                                                     'population_density']\n",
    "    row['Population Number'] = city_information.loc[row['City'],\n",
    "                                                    'population_number']\n",
    "    return row\n",
    "\n",
    "\n",
    "df = df.apply(create_population_features, axis=1)"
   ]
  },
  {
   "cell_type": "markdown",
   "metadata": {},
   "source": [
    "Нормализуем столбец численности населения в городах и приравняем слишком большие значения к единице"
   ]
  },
  {
   "cell_type": "code",
   "execution_count": 11,
   "metadata": {},
   "outputs": [],
   "source": [
    "max_population_number = df['Population Number'][\n",
    "    df['Population Number'] < df['Population Number'].max()].max()\n",
    "\n",
    "\n",
    "def normalize_number_of_population(row):\n",
    "    global max_population_number\n",
    "    row['Population Number'] = row['Population Number'] / max_population_number\n",
    "    if row['Population Number'] > 1:\n",
    "        row['Population Number'] = 1\n",
    "    return row\n",
    "\n",
    "\n",
    "df = df.apply(normalize_number_of_population, axis=1)"
   ]
  },
  {
   "cell_type": "markdown",
   "metadata": {},
   "source": [
    "Эти же манипуляции проделываем и со столбцом плотности начеления"
   ]
  },
  {
   "cell_type": "code",
   "execution_count": 12,
   "metadata": {},
   "outputs": [],
   "source": [
    "max_population_density = df['Population Density'][\n",
    "    df['Population Density'] < df['Population Density'].max()].max()\n",
    "\n",
    "\n",
    "def normalize_density_of_population(row):\n",
    "    global max_population_density\n",
    "    row['Population Density'] = row[\n",
    "        'Population Density'] / max_population_density\n",
    "    if row['Population Density'] > 1:\n",
    "        row['Population Density'] = 1\n",
    "    return row\n",
    "\n",
    "\n",
    "df = df.apply(normalize_density_of_population, axis=1)"
   ]
  },
  {
   "cell_type": "markdown",
   "metadata": {},
   "source": [
    "Сделаем из строкового столбца стилей кухни Dummy-переменные"
   ]
  },
  {
   "cell_type": "code",
   "execution_count": 13,
   "metadata": {},
   "outputs": [],
   "source": [
    "Cuisine_Style = df['Cuisine Style'].str.slice(1, -1)\n",
    "\n",
    "Cuisine_Style = Cuisine_Style.fillna(\"'Other'\")\n",
    "\n",
    "Cuisine_Style = pd.DataFrame(\n",
    "    Cuisine_Style.str.split(', ').tolist()).stack().reset_index()\n",
    "\n",
    "Cuisine_Style.columns = ['row_index', 'row_subindex', 'style']\n",
    "\n",
    "Cuisine_Style['style'] = Cuisine_Style['style'].str.slice(1, -1)\n",
    "\n",
    "popular_styles = Cuisine_Style['style'].value_counts()[\n",
    "    Cuisine_Style['style'].value_counts() > 1500].index\n",
    "\n",
    "df['Cuisine Style'] = df['Cuisine Style'].fillna(\"Empty\")\n",
    "\n",
    "for style in popular_styles:\n",
    "    df.loc[:, style] = 0\n",
    "\n",
    "\n",
    "def fill_styles(row):\n",
    "    other_identifier = 1\n",
    "    for style in popular_styles:\n",
    "        if style in row['Cuisine Style']:\n",
    "            row[style] = 1\n",
    "            other_identifier = 0\n",
    "        if other_identifier == 1:\n",
    "            row['Other'] = 1\n",
    "    return row\n",
    "\n",
    "\n",
    "df = df.apply(fill_styles, axis=1)"
   ]
  },
  {
   "cell_type": "markdown",
   "metadata": {},
   "source": [
    "Заполним исходный столбец стилей кухни количеством стилей или пустым значением в случае пропусков"
   ]
  },
  {
   "cell_type": "code",
   "execution_count": 14,
   "metadata": {},
   "outputs": [],
   "source": [
    "def transform_cuisine_style(row):\n",
    "    if row['Cuisine Style'] != 'Empty':\n",
    "        row['Cuisine Style'] = len(row['Cuisine Style'][1:-1].split(', '))\n",
    "    else:\n",
    "        row['Cuisine Style'] = np.nan\n",
    "\n",
    "    return row\n",
    "\n",
    "\n",
    "df = df.apply(transform_cuisine_style, axis=1)"
   ]
  },
  {
   "cell_type": "markdown",
   "metadata": {},
   "source": [
    "Создаем библиотеку часто встречающихся положительных слов о ресторане"
   ]
  },
  {
   "cell_type": "code",
   "execution_count": 15,
   "metadata": {},
   "outputs": [],
   "source": [
    "good_words = [\n",
    "    'good', 'best', 'not bad', 'great', 'unique', 'nice', 'better', 'friendly',\n",
    "    'amazing', 'excellent', 'clean', 'highly', 'high', 'quick', 'super',\n",
    "    'wonderful', 'well', 'decent', 'tasty', 'beautiful', 'fantastic', 'ok'\n",
    "]"
   ]
  },
  {
   "cell_type": "markdown",
   "metadata": {},
   "source": [
    "Ищем количество положительных слов в столбце комментариев о ресторане, в случае отсутствия заполняем пустым значением"
   ]
  },
  {
   "cell_type": "code",
   "execution_count": 17,
   "metadata": {},
   "outputs": [],
   "source": [
    "df.loc[:, 'Good Reviews'] = 0\n",
    "\n",
    "\n",
    "def fill_good_reviews(row):\n",
    "    global good_words\n",
    "    count = 0\n",
    "    if row['Reviews'] == '[[], []]':\n",
    "        row['Reviews'] = np.nan\n",
    "        return row\n",
    "    for word in good_words:\n",
    "        pattern = re.compile(r'\\b{}\\b'.format(word))\n",
    "        result = re.findall(pattern, row['Reviews'].lower())\n",
    "        count += len(result)\n",
    "    row['Good Reviews'] = count\n",
    "    return row\n",
    "\n",
    "\n",
    "df = df.apply(fill_good_reviews, axis=1)"
   ]
  },
  {
   "cell_type": "markdown",
   "metadata": {},
   "source": [
    "Создаем столбец категории популярности ресторана на основе данных о количестве отзывов"
   ]
  },
  {
   "cell_type": "code",
   "execution_count": 18,
   "metadata": {},
   "outputs": [],
   "source": [
    "df.loc[:, 'Popular Category'] = 0\n",
    "\n",
    "\n",
    "def ordinary_reviews_number(row):\n",
    "    if row['Number of Reviews'] <= 7:\n",
    "        row['Popular Category'] = 1\n",
    "    elif row['Number of Reviews'] > 7 and row['Number of Reviews'] <= 20:\n",
    "        row['Popular Category'] = 2\n",
    "    elif row['Number of Reviews'] > 20 and row['Number of Reviews'] <= 53:\n",
    "        row['Popular Category'] = 3\n",
    "    elif row['Number of Reviews'] > 53 and row['Number of Reviews'] <= 153:\n",
    "        row['Popular Category'] = 4\n",
    "    elif row['Number of Reviews'] > 153:\n",
    "        row['Popular Category'] = 5\n",
    "    return row\n",
    "\n",
    "\n",
    "df = df.apply(ordinary_reviews_number, axis=1)"
   ]
  },
  {
   "cell_type": "markdown",
   "metadata": {},
   "source": [
    "Нормализуем столбец количества отзывов, приравнивая очень большие значения к единице"
   ]
  },
  {
   "cell_type": "code",
   "execution_count": 19,
   "metadata": {},
   "outputs": [],
   "source": [
    "threshold_reviews_number = np.quantile(df['Number of Reviews'].dropna(), 0.995)\n",
    "\n",
    "max_reviews_number = df[df['Number of Reviews'] <\n",
    "                        threshold_reviews_number]['Number of Reviews'].max()\n",
    "\n",
    "\n",
    "def normalize_number_of_reviews(row):\n",
    "    global mean_reviews\n",
    "    row['Number of Reviews'] = row['Number of Reviews'] / max_reviews_number\n",
    "    if row['Number of Reviews'] > 1:\n",
    "        row['Number of Reviews'] = 1\n",
    "\n",
    "    return row\n",
    "\n",
    "\n",
    "df = df.apply(normalize_number_of_reviews, axis=1)"
   ]
  },
  {
   "cell_type": "markdown",
   "metadata": {},
   "source": [
    "Создаем столбец отношения рейтинга ресторана по городу к общему количеству ресторанов и нормализуем этот столбец "
   ]
  },
  {
   "cell_type": "code",
   "execution_count": 20,
   "metadata": {},
   "outputs": [],
   "source": [
    "df.loc[:, 'Ranking Category'] = None\n",
    "\n",
    "\n",
    "def ranking_category(row):\n",
    "    coef = row.Ranking / restaurant_number[row.City]\n",
    "    if coef > 1:\n",
    "        row['Ranking Category'] = 1\n",
    "    row['Ranking Category'] = coef\n",
    "\n",
    "    return row"
   ]
  },
  {
   "cell_type": "code",
   "execution_count": 22,
   "metadata": {},
   "outputs": [],
   "source": [
    "df = df.apply(ranking_category, axis=1)"
   ]
  },
  {
   "cell_type": "markdown",
   "metadata": {},
   "source": [
    "Создаем полиномиальный признак из количества отзывов и категории популярности, который в результате немного улучшит показатели итоговой модели"
   ]
  },
  {
   "cell_type": "code",
   "execution_count": 27,
   "metadata": {},
   "outputs": [],
   "source": [
    "pf = PolynomialFeatures(2)\n",
    "poly_features = pf.fit_transform(\n",
    "    df.dropna()[['Number of Reviews', 'Popular Category']])"
   ]
  },
  {
   "cell_type": "code",
   "execution_count": 28,
   "metadata": {},
   "outputs": [],
   "source": [
    "poly_features = pd.DataFrame(poly_features).iloc[:, 3]\n",
    "poly_features = pd.DataFrame(poly_features)\n",
    "poly_features.columns = ['PolyFeature']\n",
    "df = pd.concat([df.dropna().reset_index(), poly_features], axis=1)"
   ]
  },
  {
   "cell_type": "markdown",
   "metadata": {},
   "source": [
    "Из столбца города создаем Dummy-переменные"
   ]
  },
  {
   "cell_type": "code",
   "execution_count": 29,
   "metadata": {},
   "outputs": [],
   "source": [
    "dummy = pd.get_dummies(df.City)\n",
    "dummy = dummy.astype('int64')\n",
    "df = pd.concat([df, dummy], axis=1)"
   ]
  },
  {
   "cell_type": "markdown",
   "metadata": {},
   "source": [
    "Создаем столбец промежутка времени между двумя отзывами на сайте ресторана, в случае отрицательных значений берем модуль"
   ]
  },
  {
   "cell_type": "code",
   "execution_count": 30,
   "metadata": {},
   "outputs": [],
   "source": [
    "df.loc[:, 'Reviews Timedelta'] = 0\n",
    "\n",
    "\n",
    "def get_review_timedelta(row):\n",
    "    pattern = re.compile(r'\\d{2}/\\d{2}/\\d{4}')\n",
    "    dates = re.findall(pattern, row['Reviews'])\n",
    "    try:\n",
    "        row['Reviews Timedelta'] = (pd.to_datetime(dates[0]) -\n",
    "                                    pd.to_datetime(dates[1])).days\n",
    "\n",
    "    except:\n",
    "        row['Reviews Timedelta'] = np.nan\n",
    "\n",
    "    return row\n",
    "\n",
    "\n",
    "df = df.apply(get_review_timedelta, axis=1)\n",
    "df['Reviews Timedelta'] = abs(df['Reviews Timedelta'])"
   ]
  },
  {
   "cell_type": "markdown",
   "metadata": {},
   "source": [
    "Смотрим на распределение отношения рейтинга ресторана по городу к общему количеству ресторанов в городе и выбираем пороговое значение, которое в нормализованном столбце будет равно единице, как и значения изначально большие "
   ]
  },
  {
   "cell_type": "code",
   "execution_count": 42,
   "metadata": {},
   "outputs": [
    {
     "data": {
      "text/plain": [
       "<matplotlib.axes._subplots.AxesSubplot at 0x7f2a9f647fd0>"
      ]
     },
     "execution_count": 42,
     "metadata": {},
     "output_type": "execute_result"
    },
    {
     "data": {
      "image/png": "[encoded data removed]",
      "text/plain": [
       "<Figure size 432x288 with 1 Axes>"
      ]
     },
     "metadata": {},
     "output_type": "display_data"
    }
   ],
   "source": [
    "df['Ranking'].hist(bins=20)"
   ]
  },
  {
   "cell_type": "code",
   "execution_count": 31,
   "metadata": {},
   "outputs": [],
   "source": [
    "treshhold_ranking = 7500\n",
    "\n",
    "\n",
    "def normalize_ranking(row):\n",
    "    row['Ranking'] = row['Ranking'] / treshhold_ranking\n",
    "    if row['Ranking'] > 1:\n",
    "        row['Ranking'] = 1\n",
    "    return row\n",
    "\n",
    "\n",
    "df = df.apply(normalize_ranking, axis=1)"
   ]
  },
  {
   "cell_type": "markdown",
   "metadata": {},
   "source": [
    "Тестируем данные на модели случайного леса, избавляясь от ненужных столбцов и пустых значений, для большей точности проводим тест 10 раз и берем среднее."
   ]
  },
  {
   "cell_type": "markdown",
   "metadata": {},
   "source": [
    "Финальная версия датафрейма"
   ]
  },
  {
   "cell_type": "code",
   "execution_count": 2,
   "metadata": {},
   "outputs": [],
   "source": [
    "df_train = pd.read_csv('final_version.csv', index_col=0)"
   ]
  },
  {
   "cell_type": "markdown",
   "metadata": {},
   "source": [
    "Наилучшим решением оказалось убрать все строки с пустыми значениями, и строки, где категория диапазона цен равна 0. Именно после таких манипуляций с данными получался наилучший результат. Также я пробовал уменьшить количество Dummy-переменных для городов, но это также не оправдало ожидания."
   ]
  },
  {
   "cell_type": "code",
   "execution_count": 3,
   "metadata": {},
   "outputs": [
    {
     "name": "stdout",
     "output_type": "stream",
     "text": [
      "MAE: 0.16842900302114805\n"
     ]
    }
   ],
   "source": [
    "test = df_train.copy()\n",
    "test = test.drop(['Restaurant_id', 'City', 'Reviews', 'URL_TA', 'ID_TA'],\n",
    "                 axis=1)\n",
    "test = test.dropna()\n",
    "\n",
    "X = test.drop(['Rating'], axis=1)\n",
    "y = test['Rating']\n",
    "\n",
    "from sklearn.model_selection import train_test_split\n",
    "\n",
    "X_train, X_test, y_train, y_test = train_test_split(X, y, test_size=0.25)\n",
    "\n",
    "from sklearn.ensemble import RandomForestRegressor  # инструмент для создания и обучения модели\n",
    "from sklearn import metrics  # инструменты для оценки точности модели\n",
    "\n",
    "regr = RandomForestRegressor(n_estimators=100)\n",
    "\n",
    "regr.fit(X_train, y_train)\n",
    "y_pred = np.round(regr.predict(X_test) * 2) / 2\n",
    "res = metrics.mean_absolute_error(y_test, y_pred)\n",
    "print('MAE:', res)"
   ]
  },
  {
   "cell_type": "markdown",
   "metadata": {},
   "source": [
    "В результате проделанной работы показатель метрики MAE уменьшился с 0.5 до 0.17, в результате парсинга сайта TripAdvisor удалось заполнить часть пропусков, а также добавить новые признаки. На основе изначальных признаков также удалось сделать новые, нормализовать их и заменить слишком большие значения. Добавлено 2 dummy-переменных и один полиномиальный признак. С очень большой частью данных пришлось расстаться из-за пропусков, потому что ни один из основных методов их заполнения не принес успех в работе модели."
   ]
  }
 ],
 "metadata": {
  "kernelspec": {
   "display_name": "Python 3 (ipykernel)",
   "language": "python",
   "name": "python3"
  },
  "language_info": {
   "codemirror_mode": {
    "name": "ipython",
    "version": 3
   },
   "file_extension": ".py",
   "mimetype": "text/x-python",
   "name": "python",
   "nbconvert_exporter": "python",
   "pygments_lexer": "ipython3",
   "version": "3.10.4"
  },
  "varInspector": {
   "cols": {
    "lenName": 16,
    "lenType": 16,
    "lenVar": 40
   },
   "kernels_config": {
    "python": {
     "delete_cmd_postfix": "",
     "delete_cmd_prefix": "del ",
     "library": "var_list.py",
     "varRefreshCmd": "print(var_dic_list())"
    },
    "r": {
     "delete_cmd_postfix": ") ",
     "delete_cmd_prefix": "rm(",
     "library": "var_list.r",
     "varRefreshCmd": "cat(var_dic_list()) "
    }
   },
   "position": {
    "height": "256.183px",
    "left": "1244.83px",
    "right": "20px",
    "top": "53px",
    "width": "389.5px"
   },
   "types_to_exclude": [
    "module",
    "function",
    "builtin_function_or_method",
    "instance",
    "_Feature"
   ],
   "window_display": true
  }
 },
 "nbformat": 4,
 "nbformat_minor": 4
}
