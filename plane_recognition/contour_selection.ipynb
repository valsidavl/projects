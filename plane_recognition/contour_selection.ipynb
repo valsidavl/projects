{
 "cells": [
  {
   "cell_type": "code",
   "execution_count": 1,
   "metadata": {},
   "outputs": [],
   "source": [
    "import numpy as np\n",
    "import cv2 as cv"
   ]
  },
  {
   "cell_type": "code",
   "execution_count": 4,
   "metadata": {},
   "outputs": [],
   "source": [
    "# параметры цветового фильтра\n",
    "\n",
    "hsv_min = np.array((0, 0, 200), np.uint8)\n",
    "hsv_max = np.array((145, 60, 255), np.uint8)\n",
    "\n",
    "img = cv.imread(\"conturs/1.jpg\")\n",
    "cv.imshow('orig', img)\n",
    "hsv = cv.cvtColor(img, cv.COLOR_BGR2HSV )\n",
    "\n",
    "# меняем цветовую модель с BGR на HSV\n",
    "\n",
    "thresh = cv.inRange(hsv, hsv_min, hsv_max )\n",
    "\n",
    "# применяем цветовой фильтр\n",
    "# ищем контуры и складируем их в переменную contours\n",
    "\n",
    "contours, hierarchy = cv.findContours(thresh.copy(), cv.RETR_TREE, cv.CHAIN_APPROX_SIMPLE)\n",
    "\n",
    "# hierarchy хранит информацию об иерархии\n",
    "# отображаем контуры поверх изображения\n",
    "\n",
    "cv.drawContours(img, contours, -1, (255, 0, 0), 2, cv.LINE_AA, hierarchy, 1)\n",
    "cv.imshow('contours', img)\n",
    "cv.drawContours(img, contours, -1, (255, 0, 0), 2, cv.LINE_AA, hierarchy, 2)\n",
    "\n",
    "# выводим итоговое изображение в окно\n",
    "\n",
    "cv.imshow('All_con', img)\n",
    "cv.imshow('thresh', thresh)\n",
    "\n",
    "#Функция остановки выполнения программы до нажатия кнопки \n",
    "\n",
    "cv.waitKey()\n",
    "cv.destroyAllWindows()"
   ]
  },
  {
   "cell_type": "code",
   "execution_count": 4,
   "metadata": {},
   "outputs": [
    {
     "data": {
      "text/plain": [
       "True"
      ]
     },
     "execution_count": 4,
     "metadata": {},
     "output_type": "execute_result"
    }
   ],
   "source": [
    "#Сохраняем изображение после обработки\n",
    "\n",
    "cv.imwrite('example.jpg', thresh)"
   ]
  },
  {
   "cell_type": "code",
   "execution_count": null,
   "metadata": {},
   "outputs": [],
   "source": []
  }
 ],
 "metadata": {
  "kernelspec": {
   "display_name": "Python 3",
   "language": "python",
   "name": "python3"
  },
  "varInspector": {
   "cols": {
    "lenName": 16,
    "lenType": 16,
    "lenVar": 40
   },
   "kernels_config": {
    "python": {
     "delete_cmd_postfix": "",
     "delete_cmd_prefix": "del ",
     "library": "var_list.py",
     "varRefreshCmd": "print(var_dic_list())"
    },
    "r": {
     "delete_cmd_postfix": ") ",
     "delete_cmd_prefix": "rm(",
     "library": "var_list.r",
     "varRefreshCmd": "cat(var_dic_list()) "
    }
   },
   "types_to_exclude": [
    "module",
    "function",
    "builtin_function_or_method",
    "instance",
    "_Feature"
   ],
   "window_display": true
  }
 },
 "nbformat": 4,
 "nbformat_minor": 4
}
