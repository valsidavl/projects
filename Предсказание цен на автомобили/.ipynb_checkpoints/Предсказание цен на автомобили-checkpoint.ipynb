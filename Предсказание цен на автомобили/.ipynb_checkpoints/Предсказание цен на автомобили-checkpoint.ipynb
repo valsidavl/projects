{
 "cells": [
  {
   "cell_type": "code",
   "execution_count": 1,
   "metadata": {},
   "outputs": [],
   "source": [
    "import pandas as pd\n",
    "import numpy as np\n",
    "import matplotlib.pyplot as plt\n",
    "import seaborn as sns\n",
    "from sklearn.preprocessing import StandardScaler\n",
    "import re\n",
    "from catboost import CatBoostRegressor\n",
    "from sklearn.ensemble import BaggingRegressor\n",
    "from sklearn.tree import ExtraTreeRegressor\n",
    "from sklearn.metrics import mean_squared_error\n",
    "from sklearn.model_selection import train_test_split\n",
    "from sklearn.ensemble import RandomForestRegressor\n",
    "from sklearn.preprocessing import StandardScaler\n",
    "from sklearn.preprocessing import LabelEncoder\n",
    "from sklearn.feature_selection import f_classif, mutual_info_classif\n",
    "from sklearn.preprocessing import PolynomialFeatures\n",
    "from itertools import combinations"
   ]
  },
  {
   "cell_type": "code",
   "execution_count": 2,
   "metadata": {},
   "outputs": [],
   "source": [
    "train = pd.read_csv('train.csv')"
   ]
  },
  {
   "cell_type": "markdown",
   "metadata": {},
   "source": [
    "Сразу избавимся от строк, где не указана цена"
   ]
  },
  {
   "cell_type": "code",
   "execution_count": 3,
   "metadata": {},
   "outputs": [],
   "source": [
    "train.dropna(subset=['price'], axis=0, inplace=True)"
   ]
  },
  {
   "cell_type": "markdown",
   "metadata": {},
   "source": [
    "Т.к. при парсинге была допущена ошибка, стоит поменять значения столбцов с датами местами."
   ]
  },
  {
   "cell_type": "code",
   "execution_count": 4,
   "metadata": {},
   "outputs": [],
   "source": [
    "model_date = train.modelDate.values\n",
    "train.modelDate = train.productionDate.values\n",
    "train.productionDate = model_date"
   ]
  },
  {
   "cell_type": "code",
   "execution_count": 5,
   "metadata": {},
   "outputs": [
    {
     "name": "stdout",
     "output_type": "stream",
     "text": [
      "<class 'pandas.core.frame.DataFrame'>\n",
      "Int64Index: 37567 entries, 0 to 40015\n",
      "Data columns (total 25 columns):\n",
      " #   Column                Non-Null Count  Dtype  \n",
      "---  ------                --------------  -----  \n",
      " 0   bodyType              37567 non-null  object \n",
      " 1   brand                 37567 non-null  object \n",
      " 2   color                 37567 non-null  object \n",
      " 3   fuelType              37567 non-null  object \n",
      " 4   modelDate             37567 non-null  float64\n",
      " 5   name                  34525 non-null  object \n",
      " 6   numberOfDoors         37567 non-null  float64\n",
      " 7   productionDate        37567 non-null  float64\n",
      " 8   vehicleConfiguration  0 non-null      float64\n",
      " 9   vehicleTransmission   37567 non-null  object \n",
      " 10  engineDisplacement    37565 non-null  object \n",
      " 11  enginePower           37567 non-null  object \n",
      " 12  description           37563 non-null  object \n",
      " 13  mileage               37567 non-null  object \n",
      " 14  Комплектация          37567 non-null  object \n",
      " 15  Привод                37567 non-null  object \n",
      " 16  Руль                  37567 non-null  object \n",
      " 17  Состояние             37567 non-null  object \n",
      " 18  Владельцы             37563 non-null  object \n",
      " 19  ПТС                   37566 non-null  object \n",
      " 20  Таможня               37567 non-null  object \n",
      " 21  Владение              12573 non-null  object \n",
      " 22  id                    0 non-null      float64\n",
      " 23  hrefs                 37567 non-null  object \n",
      " 24  price                 37567 non-null  object \n",
      "dtypes: float64(5), object(20)\n",
      "memory usage: 7.5+ MB\n"
     ]
    }
   ],
   "source": [
    "train.info()"
   ]
  },
  {
   "cell_type": "code",
   "execution_count": 6,
   "metadata": {},
   "outputs": [],
   "source": [
    "test = pd.read_csv('test.csv')"
   ]
  },
  {
   "cell_type": "code",
   "execution_count": 7,
   "metadata": {},
   "outputs": [
    {
     "data": {
      "text/plain": [
       "0                 SEDAN AUTOMATIC 2.0\n",
       "1                 SEDAN AUTOMATIC 2.0\n",
       "2                 SEDAN AUTOMATIC 4.4\n",
       "3       ALLROAD_5_DOORS AUTOMATIC 3.0\n",
       "4       ALLROAD_5_DOORS AUTOMATIC 3.0\n",
       "                    ...              \n",
       "3832              SEDAN AUTOMATIC 2.0\n",
       "3833    ALLROAD_5_DOORS AUTOMATIC 3.0\n",
       "3834              SEDAN AUTOMATIC 2.5\n",
       "3835              SEDAN AUTOMATIC 2.0\n",
       "3836    ALLROAD_5_DOORS AUTOMATIC 4.4\n",
       "Name: vehicleConfiguration, Length: 3837, dtype: object"
      ]
     },
     "execution_count": 7,
     "metadata": {},
     "output_type": "execute_result"
    }
   ],
   "source": [
    "test['vehicleConfiguration']"
   ]
  },
  {
   "cell_type": "markdown",
   "metadata": {},
   "source": [
    "Уберем бесполезные на мой взгляд колонки  ***vehicleConfiguration***  и ***ID***. Конфигурация \n",
    "не несет в себе дополнительной полезной информацией, а просто является агрегацией нескольких других признаков."
   ]
  },
  {
   "cell_type": "code",
   "execution_count": 8,
   "metadata": {},
   "outputs": [],
   "source": [
    "train.drop(['vehicleConfiguration'], axis=1, inplace=True)\n",
    "train.loc[:, 'id'] = np.nan"
   ]
  },
  {
   "cell_type": "code",
   "execution_count": 9,
   "metadata": {},
   "outputs": [],
   "source": [
    "test.drop(['vehicleConfiguration'], axis=1, inplace=True)"
   ]
  },
  {
   "cell_type": "markdown",
   "metadata": {},
   "source": [
    "## Смотрим на тип данных для двух датафреймов"
   ]
  },
  {
   "cell_type": "code",
   "execution_count": 10,
   "metadata": {},
   "outputs": [
    {
     "name": "stdout",
     "output_type": "stream",
     "text": [
      "<class 'pandas.core.frame.DataFrame'>\n",
      "RangeIndex: 3837 entries, 0 to 3836\n",
      "Data columns (total 22 columns):\n",
      " #   Column               Non-Null Count  Dtype  \n",
      "---  ------               --------------  -----  \n",
      " 0   bodyType             3837 non-null   object \n",
      " 1   brand                3837 non-null   object \n",
      " 2   color                3837 non-null   object \n",
      " 3   fuelType             3837 non-null   object \n",
      " 4   modelDate            3837 non-null   float64\n",
      " 5   name                 3837 non-null   object \n",
      " 6   numberOfDoors        3837 non-null   float64\n",
      " 7   productionDate       3837 non-null   float64\n",
      " 8   vehicleTransmission  3837 non-null   object \n",
      " 9   engineDisplacement   3837 non-null   object \n",
      " 10  enginePower          3837 non-null   object \n",
      " 11  description          3837 non-null   object \n",
      " 12  mileage              3837 non-null   float64\n",
      " 13  Комплектация         3837 non-null   object \n",
      " 14  Привод               3837 non-null   object \n",
      " 15  Руль                 3837 non-null   object \n",
      " 16  Состояние            3837 non-null   object \n",
      " 17  Владельцы            3837 non-null   object \n",
      " 18  ПТС                  3837 non-null   object \n",
      " 19  Таможня              3837 non-null   object \n",
      " 20  Владение             1753 non-null   object \n",
      " 21  id                   3837 non-null   int64  \n",
      "dtypes: float64(4), int64(1), object(17)\n",
      "memory usage: 659.6+ KB\n"
     ]
    }
   ],
   "source": [
    "test.info()"
   ]
  },
  {
   "cell_type": "code",
   "execution_count": 11,
   "metadata": {},
   "outputs": [
    {
     "name": "stdout",
     "output_type": "stream",
     "text": [
      "<class 'pandas.core.frame.DataFrame'>\n",
      "Int64Index: 37567 entries, 0 to 40015\n",
      "Data columns (total 24 columns):\n",
      " #   Column               Non-Null Count  Dtype  \n",
      "---  ------               --------------  -----  \n",
      " 0   bodyType             37567 non-null  object \n",
      " 1   brand                37567 non-null  object \n",
      " 2   color                37567 non-null  object \n",
      " 3   fuelType             37567 non-null  object \n",
      " 4   modelDate            37567 non-null  float64\n",
      " 5   name                 34525 non-null  object \n",
      " 6   numberOfDoors        37567 non-null  float64\n",
      " 7   productionDate       37567 non-null  float64\n",
      " 8   vehicleTransmission  37567 non-null  object \n",
      " 9   engineDisplacement   37565 non-null  object \n",
      " 10  enginePower          37567 non-null  object \n",
      " 11  description          37563 non-null  object \n",
      " 12  mileage              37567 non-null  object \n",
      " 13  Комплектация         37567 non-null  object \n",
      " 14  Привод               37567 non-null  object \n",
      " 15  Руль                 37567 non-null  object \n",
      " 16  Состояние            37567 non-null  object \n",
      " 17  Владельцы            37563 non-null  object \n",
      " 18  ПТС                  37566 non-null  object \n",
      " 19  Таможня              37567 non-null  object \n",
      " 20  Владение             12573 non-null  object \n",
      " 21  id                   0 non-null      float64\n",
      " 22  hrefs                37567 non-null  object \n",
      " 23  price                37567 non-null  object \n",
      "dtypes: float64(4), object(20)\n",
      "memory usage: 7.2+ MB\n"
     ]
    }
   ],
   "source": [
    "train.info()"
   ]
  },
  {
   "cell_type": "markdown",
   "metadata": {},
   "source": [
    "Тип данных признака ***mileage*** разный для двух таблиц, поэтому преобразуем для  ***train*** в тип *float*"
   ]
  },
  {
   "cell_type": "code",
   "execution_count": 12,
   "metadata": {},
   "outputs": [
    {
     "data": {
      "text/plain": [
       "0        230 000 км\n",
       "1        220 000 км\n",
       "2         74 000 км\n",
       "3        170 000 км\n",
       "4         27 010 км\n",
       "            ...    \n",
       "40011    333 000 км\n",
       "40012    395 000 км\n",
       "40013    360 000 км\n",
       "40014    297 000 км\n",
       "40015    364 000 км\n",
       "Name: mileage, Length: 37567, dtype: object"
      ]
     },
     "execution_count": 12,
     "metadata": {},
     "output_type": "execute_result"
    }
   ],
   "source": [
    "train.mileage"
   ]
  },
  {
   "cell_type": "code",
   "execution_count": 13,
   "metadata": {},
   "outputs": [],
   "source": [
    "def mileage_to_float(value):\n",
    "    if pd.isnull(value):\n",
    "        return np.nan\n",
    "    else:\n",
    "        value = value.split(' ')\n",
    "        value.remove('км')\n",
    "        return float(''.join(value))"
   ]
  },
  {
   "cell_type": "code",
   "execution_count": 14,
   "metadata": {},
   "outputs": [],
   "source": [
    "train.loc[:, 'mileage'] = train.mileage.apply(mileage_to_float)"
   ]
  },
  {
   "cell_type": "markdown",
   "metadata": {},
   "source": [
    "Выделим численную часть в признаке ***price***"
   ]
  },
  {
   "cell_type": "code",
   "execution_count": 15,
   "metadata": {},
   "outputs": [],
   "source": [
    "def price_to_float(value):\n",
    "    value = value.split(' ')\n",
    "    value.remove('₽')\n",
    "    return float(''.join(value))"
   ]
  },
  {
   "cell_type": "code",
   "execution_count": 16,
   "metadata": {},
   "outputs": [],
   "source": [
    "train.loc[:, 'price'] = train.price.apply(price_to_float)"
   ]
  },
  {
   "cell_type": "markdown",
   "metadata": {},
   "source": [
    "Укажем разные значения параметра ***label*** для двух датафремов чтобы"
   ]
  },
  {
   "cell_type": "code",
   "execution_count": 17,
   "metadata": {},
   "outputs": [],
   "source": [
    "train.loc[:, 'label'] = 1\n",
    "test.loc[:, 'label'] = 0\n",
    "test.loc[:, 'hrefs'] = 'empty'\n",
    "test.loc[:, 'price'] = np.nan"
   ]
  },
  {
   "cell_type": "code",
   "execution_count": 18,
   "metadata": {},
   "outputs": [],
   "source": [
    "df = pd.concat([train, test], axis=0).reset_index(drop=True)"
   ]
  },
  {
   "cell_type": "markdown",
   "metadata": {},
   "source": [
    "Посмотрим на количество пропусков в датафрейме"
   ]
  },
  {
   "cell_type": "code",
   "execution_count": 19,
   "metadata": {},
   "outputs": [
    {
     "data": {
      "text/plain": [
       "bodyType                   0\n",
       "brand                      0\n",
       "color                      0\n",
       "fuelType                   0\n",
       "modelDate                  0\n",
       "name                    3042\n",
       "numberOfDoors              0\n",
       "productionDate             0\n",
       "vehicleTransmission        0\n",
       "engineDisplacement         2\n",
       "enginePower                0\n",
       "description                4\n",
       "mileage                    0\n",
       "Комплектация               0\n",
       "Привод                     0\n",
       "Руль                       0\n",
       "Состояние                  0\n",
       "Владельцы                  4\n",
       "ПТС                        1\n",
       "Таможня                    0\n",
       "Владение               27078\n",
       "id                     37567\n",
       "hrefs                      0\n",
       "price                   3837\n",
       "label                      0\n",
       "dtype: int64"
      ]
     },
     "execution_count": 19,
     "metadata": {},
     "output_type": "execute_result"
    }
   ],
   "source": [
    "df.isnull().sum()"
   ]
  },
  {
   "cell_type": "markdown",
   "metadata": {},
   "source": [
    "## Теперь разберем корректность данных в каждом столбце"
   ]
  },
  {
   "cell_type": "code",
   "execution_count": 20,
   "metadata": {},
   "outputs": [],
   "source": [
    "def detect_outlires(col):\n",
    "    quan_25 = np.quantile(df[col], 0.25)\n",
    "    quan_75 = np.quantile(df[col], 0.75)\n",
    "    IQR = quan_75 - quan_25\n",
    "    return len(df[(df[col] < quan_25 - 1.5 * IQR) |\n",
    "                  (df[col] > quan_75 +\n",
    "                   1.5 * IQR)]), quan_25 - 1.5 * IQR, quan_75 + 1.5 * IQR"
   ]
  },
  {
   "cell_type": "markdown",
   "metadata": {},
   "source": [
    "***bodyType***"
   ]
  },
  {
   "cell_type": "code",
   "execution_count": 21,
   "metadata": {},
   "outputs": [
    {
     "data": {
      "text/plain": [
       "седан                   21663\n",
       "внедорожник 5 дв.       11857\n",
       "хэтчбек 5 дв.            2136\n",
       "универсал 5 дв.          1880\n",
       "минивэн                  1222\n",
       "купе                      824\n",
       "хэтчбек 3 дв.             561\n",
       "лифтбек                   405\n",
       "компактвэн                269\n",
       "фургон                    261\n",
       "купе-хардтоп              155\n",
       "кабриолет                 119\n",
       "седан 2 дв.                18\n",
       "внедорожник 3 дв.          12\n",
       "родстер                    10\n",
       "лимузин                     9\n",
       "внедорожник открытый        3\n",
       "Name: bodyType, dtype: int64"
      ]
     },
     "execution_count": 21,
     "metadata": {},
     "output_type": "execute_result"
    }
   ],
   "source": [
    "df.bodyType.value_counts()"
   ]
  },
  {
   "cell_type": "code",
   "execution_count": 22,
   "metadata": {},
   "outputs": [
    {
     "data": {
      "text/plain": [
       "внедорожник 5 дв.    1626\n",
       "седан                1594\n",
       "купе                  214\n",
       "хэтчбек 5 дв.         163\n",
       "лифтбек               125\n",
       "универсал 5 дв.        46\n",
       "хэтчбек 3 дв.          36\n",
       "кабриолет              19\n",
       "родстер                10\n",
       "компактвэн              3\n",
       "седан 2 дв.             1\n",
       "Name: bodyType, dtype: int64"
      ]
     },
     "execution_count": 22,
     "metadata": {},
     "output_type": "execute_result"
    }
   ],
   "source": [
    "df[df['label'] == 0].bodyType.value_counts()"
   ]
  },
  {
   "cell_type": "markdown",
   "metadata": {},
   "source": [
    "***brand***"
   ]
  },
  {
   "cell_type": "code",
   "execution_count": 23,
   "metadata": {},
   "outputs": [
    {
     "data": {
      "text/plain": [
       "volkswagen    11251\n",
       "bmw            9296\n",
       "mercedes       7979\n",
       "audi           6880\n",
       "BMW            3837\n",
       "lexus          2161\n",
       "Name: brand, dtype: int64"
      ]
     },
     "execution_count": 23,
     "metadata": {},
     "output_type": "execute_result"
    }
   ],
   "source": [
    "df.brand.value_counts()"
   ]
  },
  {
   "cell_type": "code",
   "execution_count": 24,
   "metadata": {},
   "outputs": [],
   "source": [
    "df.brand = df.brand.apply(lambda x: x.lower())"
   ]
  },
  {
   "cell_type": "code",
   "execution_count": 25,
   "metadata": {},
   "outputs": [
    {
     "data": {
      "text/plain": [
       "<matplotlib.axes._subplots.AxesSubplot at 0x7ff93eb77750>"
      ]
     },
     "execution_count": 25,
     "metadata": {},
     "output_type": "execute_result"
    },
    {
     "data": {
      "image/png": "[encoded data removed]",
      "text/plain": [
       "<Figure size 432x288 with 1 Axes>"
      ]
     },
     "metadata": {
      "needs_background": "light"
     },
     "output_type": "display_data"
    }
   ],
   "source": [
    "sns.countplot(df.brand)"
   ]
  },
  {
   "cell_type": "markdown",
   "metadata": {},
   "source": [
    "***color***"
   ]
  },
  {
   "cell_type": "code",
   "execution_count": 26,
   "metadata": {},
   "outputs": [
    {
     "data": {
      "text/plain": [
       "чёрный         13925\n",
       "белый           7547\n",
       "серебристый     4902\n",
       "синий           4448\n",
       "серый           4304\n",
       "красный         1708\n",
       "коричневый      1461\n",
       "зелёный         1196\n",
       "бежевый          566\n",
       "голубой          412\n",
       "золотистый       300\n",
       "пурпурный        216\n",
       "фиолетовый       183\n",
       "жёлтый           146\n",
       "оранжевый         89\n",
       "розовый            1\n",
       "Name: color, dtype: int64"
      ]
     },
     "execution_count": 26,
     "metadata": {},
     "output_type": "execute_result"
    }
   ],
   "source": [
    "df.color.value_counts()"
   ]
  },
  {
   "cell_type": "markdown",
   "metadata": {},
   "source": [
    "***fuelType***"
   ]
  },
  {
   "cell_type": "code",
   "execution_count": 27,
   "metadata": {},
   "outputs": [
    {
     "data": {
      "text/plain": [
       "<matplotlib.axes._subplots.AxesSubplot at 0x7ff93eaa9350>"
      ]
     },
     "execution_count": 27,
     "metadata": {},
     "output_type": "execute_result"
    },
    {
     "data": {
      "image/png": "[encoded data removed]",
      "text/plain": [
       "<Figure size 432x288 with 1 Axes>"
      ]
     },
     "metadata": {
      "needs_background": "light"
     },
     "output_type": "display_data"
    }
   ],
   "source": [
    "sns.countplot(df.fuelType)"
   ]
  },
  {
   "cell_type": "code",
   "execution_count": 28,
   "metadata": {},
   "outputs": [
    {
     "data": {
      "text/plain": [
       "array(['дизель', 'бензин', 'гибрид', 'электро'], dtype=object)"
      ]
     },
     "execution_count": 28,
     "metadata": {},
     "output_type": "execute_result"
    }
   ],
   "source": [
    "df[df.label == 0].fuelType.unique()"
   ]
  },
  {
   "cell_type": "code",
   "execution_count": 29,
   "metadata": {},
   "outputs": [],
   "source": [
    "df = df.query('fuelType not in [\"СУГ\"]')"
   ]
  },
  {
   "cell_type": "markdown",
   "metadata": {},
   "source": [
    "***modelDate***"
   ]
  },
  {
   "cell_type": "code",
   "execution_count": 30,
   "metadata": {},
   "outputs": [
    {
     "data": {
      "text/plain": [
       "<matplotlib.axes._subplots.AxesSubplot at 0x7ff93ea61a50>"
      ]
     },
     "execution_count": 30,
     "metadata": {},
     "output_type": "execute_result"
    },
    {
     "data": {
      "image/png": "[encoded data removed]",
      "text/plain": [
       "<Figure size 432x288 with 1 Axes>"
      ]
     },
     "metadata": {
      "needs_background": "light"
     },
     "output_type": "display_data"
    }
   ],
   "source": [
    "df.modelDate.hist()"
   ]
  },
  {
   "cell_type": "code",
   "execution_count": 31,
   "metadata": {},
   "outputs": [
    {
     "data": {
      "text/plain": [
       "<matplotlib.axes._subplots.AxesSubplot at 0x7ff93e93eb90>"
      ]
     },
     "execution_count": 31,
     "metadata": {},
     "output_type": "execute_result"
    },
    {
     "data": {
      "image/png": "[encoded data removed]",
      "text/plain": [
       "<Figure size 432x288 with 1 Axes>"
      ]
     },
     "metadata": {
      "needs_background": "light"
     },
     "output_type": "display_data"
    }
   ],
   "source": [
    "sns.boxplot(df.modelDate)"
   ]
  },
  {
   "cell_type": "code",
   "execution_count": 32,
   "metadata": {},
   "outputs": [
    {
     "data": {
      "text/plain": [
       "(754, 1983.5, 2027.5)"
      ]
     },
     "execution_count": 32,
     "metadata": {},
     "output_type": "execute_result"
    }
   ],
   "source": [
    "detect_outlires('modelDate')"
   ]
  },
  {
   "cell_type": "code",
   "execution_count": 33,
   "metadata": {},
   "outputs": [
    {
     "data": {
      "text/plain": [
       "1975.0"
      ]
     },
     "metadata": {},
     "output_type": "display_data"
    },
    {
     "data": {
      "text/plain": [
       "1972.0"
      ]
     },
     "metadata": {},
     "output_type": "display_data"
    }
   ],
   "source": [
    "display(df[df.label == 0].modelDate.min(), df[df.label == 1].modelDate.min())"
   ]
  },
  {
   "cell_type": "markdown",
   "metadata": {},
   "source": [
    "Избавляться от выбросов смысла нет, т.к. эти значения вполне реальные и тем более используются в тестовой выборке"
   ]
  },
  {
   "cell_type": "markdown",
   "metadata": {},
   "source": [
    "***name***"
   ]
  },
  {
   "cell_type": "code",
   "execution_count": 34,
   "metadata": {},
   "outputs": [
    {
     "data": {
      "text/plain": [
       "0     Mercedes-Benz A-Класс (1.5 CVT) Хэтчбек 5 дв....\n",
       "1     Mercedes-Benz A-Класс (1.7 CVT) Хэтчбек 5 дв....\n",
       "2     Mercedes-Benz A-Класс A180 (1.6 AMT) Хэтчбек ...\n",
       "3     Mercedes-Benz A-Класс (1.7 CVT) Хэтчбек 3 дв....\n",
       "4                                                  NaN\n",
       "Name: name, dtype: object"
      ]
     },
     "execution_count": 34,
     "metadata": {},
     "output_type": "execute_result"
    }
   ],
   "source": [
    "df.name.iloc[:5]"
   ]
  },
  {
   "cell_type": "markdown",
   "metadata": {},
   "source": [
    "#### Если посмотреть на состав названия машины, то видно что указывается:\n",
    "- Бренд\n",
    "- Тип кузова\n",
    "- Объем двигателя\n",
    "- Вид коробки передач\n",
    "- Мощность двигателя \n",
    "- Привод\n",
    "\n",
    "Поэтому мы можем привести(хоть и с неточностью) все к общему виду"
   ]
  },
  {
   "cell_type": "code",
   "execution_count": 35,
   "metadata": {},
   "outputs": [],
   "source": [
    "def change_name(row):\n",
    "    string = f'{row.brand} {row.bodyType} {row.engineDisplacement} \\\n",
    "{row.vehicleTransmission} {row.enginePower} {row[\"Привод\"]}'\n",
    "    row.loc['name'] = string\n",
    "    return row\n",
    "\n",
    "\n",
    "df = df.apply(change_name, axis=1)"
   ]
  },
  {
   "cell_type": "code",
   "execution_count": 36,
   "metadata": {},
   "outputs": [
    {
     "data": {
      "text/plain": [
       "2373"
      ]
     },
     "execution_count": 36,
     "metadata": {},
     "output_type": "execute_result"
    }
   ],
   "source": [
    "df.name.nunique()"
   ]
  },
  {
   "cell_type": "markdown",
   "metadata": {},
   "source": [
    "Этот столбец может пригодится в дополнительном сборе информации поэтому пока, что оставим его."
   ]
  },
  {
   "cell_type": "markdown",
   "metadata": {},
   "source": [
    "***numberOfDoors***"
   ]
  },
  {
   "cell_type": "code",
   "execution_count": 37,
   "metadata": {},
   "outputs": [
    {
     "data": {
      "text/plain": [
       "<matplotlib.axes._subplots.AxesSubplot at 0x7ff9302765d0>"
      ]
     },
     "execution_count": 37,
     "metadata": {},
     "output_type": "execute_result"
    },
    {
     "data": {
      "image/png": "[encoded data removed]",
      "text/plain": [
       "<Figure size 432x288 with 1 Axes>"
      ]
     },
     "metadata": {
      "needs_background": "light"
     },
     "output_type": "display_data"
    }
   ],
   "source": [
    "sns.countplot(df.numberOfDoors)"
   ]
  },
  {
   "cell_type": "markdown",
   "metadata": {},
   "source": [
    "***productionDate***"
   ]
  },
  {
   "cell_type": "code",
   "execution_count": 38,
   "metadata": {},
   "outputs": [
    {
     "data": {
      "text/plain": [
       "<matplotlib.axes._subplots.AxesSubplot at 0x7ff93144a910>"
      ]
     },
     "execution_count": 38,
     "metadata": {},
     "output_type": "execute_result"
    },
    {
     "data": {
      "image/png": "[encoded data removed]",
      "text/plain": [
       "<Figure size 432x288 with 1 Axes>"
      ]
     },
     "metadata": {
      "needs_background": "light"
     },
     "output_type": "display_data"
    }
   ],
   "source": [
    "df.productionDate.hist()"
   ]
  },
  {
   "cell_type": "code",
   "execution_count": 39,
   "metadata": {},
   "outputs": [
    {
     "data": {
      "text/plain": [
       "(741, 1983.5, 2027.5)"
      ]
     },
     "execution_count": 39,
     "metadata": {},
     "output_type": "execute_result"
    }
   ],
   "source": [
    "detect_outlires('productionDate')"
   ]
  },
  {
   "cell_type": "markdown",
   "metadata": {},
   "source": [
    "Выбросы есть, но они не противоречать природе данных, поэтому пока оставлю их. "
   ]
  },
  {
   "cell_type": "markdown",
   "metadata": {},
   "source": [
    "Необходимо провести проверку на правильность хронологии производства и выпуска."
   ]
  },
  {
   "cell_type": "code",
   "execution_count": 40,
   "metadata": {},
   "outputs": [
    {
     "data": {
      "text/plain": [
       "count    41372.000000\n",
       "mean         0.184231\n",
       "std          0.698514\n",
       "min         -1.000000\n",
       "25%          0.000000\n",
       "50%          0.000000\n",
       "75%          0.000000\n",
       "max         12.000000\n",
       "Name: date_difference, dtype: float64"
      ]
     },
     "execution_count": 40,
     "metadata": {},
     "output_type": "execute_result"
    }
   ],
   "source": [
    "df.loc[:, 'date_difference'] = df.productionDate - df.modelDate\n",
    "df.date_difference.describe()"
   ]
  },
  {
   "cell_type": "code",
   "execution_count": 41,
   "metadata": {},
   "outputs": [
    {
     "data": {
      "text/plain": [
       "2"
      ]
     },
     "execution_count": 41,
     "metadata": {},
     "output_type": "execute_result"
    }
   ],
   "source": [
    "df.name[df.date_difference < 0].nunique()"
   ]
  },
  {
   "cell_type": "code",
   "execution_count": 42,
   "metadata": {},
   "outputs": [
    {
     "data": {
      "text/plain": [
       "Series([], Name: name, dtype: object)"
      ]
     },
     "execution_count": 42,
     "metadata": {},
     "output_type": "execute_result"
    }
   ],
   "source": [
    "df[(df.date_difference < 0) & (df.label == 1)].name"
   ]
  },
  {
   "cell_type": "code",
   "execution_count": 43,
   "metadata": {},
   "outputs": [
    {
     "data": {
      "text/plain": [
       "39313      bmw купе 2.0 LTR автоматическая 184 N12 задний\n",
       "41292    bmw купе 5.0 LTR роботизированная 507 N12 задний\n",
       "Name: name, dtype: object"
      ]
     },
     "execution_count": 43,
     "metadata": {},
     "output_type": "execute_result"
    }
   ],
   "source": [
    "df.name[(df.date_difference < 0) & (df.label == 0)]"
   ]
  },
  {
   "cell_type": "markdown",
   "metadata": {},
   "source": [
    "Видим, что есть две ошибки в тестовой выборке поэтому можем поменять даты местами"
   ]
  },
  {
   "cell_type": "code",
   "execution_count": 44,
   "metadata": {},
   "outputs": [],
   "source": [
    "def swap_dates(row):\n",
    "    if row.date_difference < 0:\n",
    "        temp_1 = row.modelDate\n",
    "        temp_2 = row.productionDate\n",
    "        row.loc['modelDate'] = temp_2\n",
    "        row.loc['productionDate'] = temp_1\n",
    "        row.loc['date_difference'] = row.productionDate - row.modelDate\n",
    "    return row"
   ]
  },
  {
   "cell_type": "code",
   "execution_count": 45,
   "metadata": {},
   "outputs": [],
   "source": [
    "df = df.apply(swap_dates, axis=1)"
   ]
  },
  {
   "cell_type": "code",
   "execution_count": 46,
   "metadata": {},
   "outputs": [
    {
     "data": {
      "text/plain": [
       "Series([], Name: name, dtype: object)"
      ]
     },
     "execution_count": 46,
     "metadata": {},
     "output_type": "execute_result"
    }
   ],
   "source": [
    "df.name[(df.date_difference < 0) & (df.label == 0)]"
   ]
  },
  {
   "cell_type": "markdown",
   "metadata": {},
   "source": [
    "Убедились, что все аномалии устранены"
   ]
  },
  {
   "cell_type": "markdown",
   "metadata": {},
   "source": [
    "***vehicleTransmission***"
   ]
  },
  {
   "cell_type": "code",
   "execution_count": 47,
   "metadata": {},
   "outputs": [
    {
     "data": {
      "text/plain": [
       "<matplotlib.axes._subplots.AxesSubplot at 0x7ff929d61650>"
      ]
     },
     "execution_count": 47,
     "metadata": {},
     "output_type": "execute_result"
    },
    {
     "data": {
      "image/png": "[encoded data removed]",
      "text/plain": [
       "<Figure size 864x576 with 1 Axes>"
      ]
     },
     "metadata": {
      "needs_background": "light"
     },
     "output_type": "display_data"
    }
   ],
   "source": [
    "plt.figure(figsize=[12, 8])\n",
    "sns.countplot(df.vehicleTransmission)"
   ]
  },
  {
   "cell_type": "code",
   "execution_count": 48,
   "metadata": {},
   "outputs": [
    {
     "data": {
      "text/plain": [
       "array(['автоматическая', 'механическая', 'роботизированная'], dtype=object)"
      ]
     },
     "execution_count": 48,
     "metadata": {},
     "output_type": "execute_result"
    }
   ],
   "source": [
    "df[df.label == 0].vehicleTransmission.unique()"
   ]
  },
  {
   "cell_type": "code",
   "execution_count": 49,
   "metadata": {},
   "outputs": [],
   "source": [
    "def format_transmission(value):\n",
    "    if 'механ' in value:\n",
    "        return 'механика'\n",
    "    elif 'робот' in value:\n",
    "        return 'робот'\n",
    "    elif 'автомат' in value:\n",
    "        return 'автомат'\n",
    "    elif value == 'вариатор':  #т.к. вариатор - это вариация автомата причислим к его классу\n",
    "        return 'автомат'"
   ]
  },
  {
   "cell_type": "code",
   "execution_count": 50,
   "metadata": {},
   "outputs": [],
   "source": [
    "df.loc[:, 'vehicleTransmission'] = df.vehicleTransmission.apply(\n",
    "    format_transmission)"
   ]
  },
  {
   "cell_type": "markdown",
   "metadata": {},
   "source": [
    "***engineDisplacement***"
   ]
  },
  {
   "cell_type": "code",
   "execution_count": 51,
   "metadata": {},
   "outputs": [
    {
     "data": {
      "text/plain": [
       "array(['1.5 л', '1.7 л', '1.6 л', '1.3 л', '2.0 л', '1.4 л', '1.9 л',\n",
       "       '2.3 л', '2.5 л', '1.8 л', '3.0 л', '2.2 л', '2.8 л', '3.5 л',\n",
       "       '2.1 л', '2.6 л', '2.4 л', '3.2 л', '2.7 л', '2.9 л', '5.0 л',\n",
       "       '4.7 л', '5.5 л', '4.2 л', '4.3 л', '4.0 л', '5.4 л', '3.7 л',\n",
       "       '6.0 л', '5.8 л', '5.6 л', '3.8 л', '4.5 л', '6.8 л', '3.3 л',\n",
       "       '4.6 л', '3.4 л', '5.7 л', '1.2 л', '3.1 л', '6.3 л', '4.1 л',\n",
       "       '3.6 л', '5.9 л', '4.4 л', '4.8 л', '6.6 л', '3.9 л', nan, '1.1 л',\n",
       "       '1.0 л', '4.9 л', '2.0 LTR', '4.4 LTR', '3.0 LTR', '1.6 LTR',\n",
       "       '2.5 LTR', '4.8 LTR', '2.2 LTR', '6.6 LTR', '1.5 LTR', '6.0 LTR',\n",
       "       '1.8 LTR', '3.5 LTR', '2.8 LTR', '4.0 LTR', '3.6 LTR', '5.4 LTR',\n",
       "       '2.9 LTR', 'undefined LTR', '1.9 LTR', '5.0 LTR', '4.6 LTR',\n",
       "       '3.4 LTR'], dtype=object)"
      ]
     },
     "execution_count": 51,
     "metadata": {},
     "output_type": "execute_result"
    }
   ],
   "source": [
    "df.engineDisplacement.unique()"
   ]
  },
  {
   "cell_type": "code",
   "execution_count": 52,
   "metadata": {},
   "outputs": [
    {
     "data": {
      "text/html": [
       "<div>\n",
       "<style scoped>\n",
       "    .dataframe tbody tr th:only-of-type {\n",
       "        vertical-align: middle;\n",
       "    }\n",
       "\n",
       "    .dataframe tbody tr th {\n",
       "        vertical-align: top;\n",
       "    }\n",
       "\n",
       "    .dataframe thead th {\n",
       "        text-align: right;\n",
       "    }\n",
       "</style>\n",
       "<table border=\"1\" class=\"dataframe\">\n",
       "  <thead>\n",
       "    <tr style=\"text-align: right;\">\n",
       "      <th></th>\n",
       "      <th>bodyType</th>\n",
       "      <th>brand</th>\n",
       "      <th>color</th>\n",
       "      <th>fuelType</th>\n",
       "      <th>modelDate</th>\n",
       "      <th>name</th>\n",
       "      <th>numberOfDoors</th>\n",
       "      <th>productionDate</th>\n",
       "      <th>vehicleTransmission</th>\n",
       "      <th>engineDisplacement</th>\n",
       "      <th>...</th>\n",
       "      <th>Состояние</th>\n",
       "      <th>Владельцы</th>\n",
       "      <th>ПТС</th>\n",
       "      <th>Таможня</th>\n",
       "      <th>Владение</th>\n",
       "      <th>id</th>\n",
       "      <th>hrefs</th>\n",
       "      <th>price</th>\n",
       "      <th>label</th>\n",
       "      <th>date_difference</th>\n",
       "    </tr>\n",
       "  </thead>\n",
       "  <tbody>\n",
       "    <tr>\n",
       "      <th>38390</th>\n",
       "      <td>хэтчбек 5 дв.</td>\n",
       "      <td>bmw</td>\n",
       "      <td>белый</td>\n",
       "      <td>электро</td>\n",
       "      <td>2013.0</td>\n",
       "      <td>bmw хэтчбек 5 дв. undefined LTR автоматическая...</td>\n",
       "      <td>5.0</td>\n",
       "      <td>2016.0</td>\n",
       "      <td>автомат</td>\n",
       "      <td>undefined LTR</td>\n",
       "      <td>...</td>\n",
       "      <td>Не требует ремонта</td>\n",
       "      <td>1 владелец</td>\n",
       "      <td>Оригинал</td>\n",
       "      <td>Растаможен</td>\n",
       "      <td>NaN</td>\n",
       "      <td>823.0</td>\n",
       "      <td>empty</td>\n",
       "      <td>NaN</td>\n",
       "      <td>0</td>\n",
       "      <td>3.0</td>\n",
       "    </tr>\n",
       "  </tbody>\n",
       "</table>\n",
       "<p>1 rows × 26 columns</p>\n",
       "</div>"
      ],
      "text/plain": [
       "            bodyType brand  color fuelType  modelDate  \\\n",
       "38390  хэтчбек 5 дв.   bmw  белый  электро     2013.0   \n",
       "\n",
       "                                                    name  numberOfDoors  \\\n",
       "38390  bmw хэтчбек 5 дв. undefined LTR автоматическая...            5.0   \n",
       "\n",
       "       productionDate vehicleTransmission engineDisplacement  ...  \\\n",
       "38390          2016.0             автомат      undefined LTR  ...   \n",
       "\n",
       "                Состояние   Владельцы       ПТС     Таможня Владение     id  \\\n",
       "38390  Не требует ремонта  1 владелец  Оригинал  Растаможен      NaN  823.0   \n",
       "\n",
       "       hrefs price label date_difference  \n",
       "38390  empty   NaN     0             3.0  \n",
       "\n",
       "[1 rows x 26 columns]"
      ]
     },
     "execution_count": 52,
     "metadata": {},
     "output_type": "execute_result"
    }
   ],
   "source": [
    "df[df.engineDisplacement == 'undefined LTR']"
   ]
  },
  {
   "cell_type": "markdown",
   "metadata": {},
   "source": [
    "Все значения указаны через точку значит можем легко достать только цифровое значение без \n",
    "наименования величины. Также присутствуют 3 пропуска, от которых следует избавиться"
   ]
  },
  {
   "cell_type": "code",
   "execution_count": 53,
   "metadata": {},
   "outputs": [],
   "source": [
    "def format_displacement(value):\n",
    "    if pd.notnull(value) and value != 'undefined LTR':\n",
    "        value = re.findall(pattern=r'\\d\\.\\d', string=value)[0]\n",
    "        return float(value)\n",
    "    else:\n",
    "        np.nan"
   ]
  },
  {
   "cell_type": "code",
   "execution_count": 54,
   "metadata": {},
   "outputs": [],
   "source": [
    "df.loc[:, 'engineDisplacement'] = df.engineDisplacement.apply(\n",
    "    format_displacement)"
   ]
  },
  {
   "cell_type": "code",
   "execution_count": 55,
   "metadata": {},
   "outputs": [
    {
     "data": {
      "text/html": [
       "<div>\n",
       "<style scoped>\n",
       "    .dataframe tbody tr th:only-of-type {\n",
       "        vertical-align: middle;\n",
       "    }\n",
       "\n",
       "    .dataframe tbody tr th {\n",
       "        vertical-align: top;\n",
       "    }\n",
       "\n",
       "    .dataframe thead th {\n",
       "        text-align: right;\n",
       "    }\n",
       "</style>\n",
       "<table border=\"1\" class=\"dataframe\">\n",
       "  <thead>\n",
       "    <tr style=\"text-align: right;\">\n",
       "      <th></th>\n",
       "      <th>bodyType</th>\n",
       "      <th>brand</th>\n",
       "      <th>color</th>\n",
       "      <th>fuelType</th>\n",
       "      <th>modelDate</th>\n",
       "      <th>name</th>\n",
       "      <th>numberOfDoors</th>\n",
       "      <th>productionDate</th>\n",
       "      <th>vehicleTransmission</th>\n",
       "      <th>engineDisplacement</th>\n",
       "      <th>...</th>\n",
       "      <th>Состояние</th>\n",
       "      <th>Владельцы</th>\n",
       "      <th>ПТС</th>\n",
       "      <th>Таможня</th>\n",
       "      <th>Владение</th>\n",
       "      <th>id</th>\n",
       "      <th>hrefs</th>\n",
       "      <th>price</th>\n",
       "      <th>label</th>\n",
       "      <th>date_difference</th>\n",
       "    </tr>\n",
       "  </thead>\n",
       "  <tbody>\n",
       "    <tr>\n",
       "      <th>26889</th>\n",
       "      <td>хэтчбек 5 дв.</td>\n",
       "      <td>volkswagen</td>\n",
       "      <td>голубой</td>\n",
       "      <td>электро</td>\n",
       "      <td>2012.0</td>\n",
       "      <td>volkswagen хэтчбек 5 дв. nan автомат 115 л.с. ...</td>\n",
       "      <td>5.0</td>\n",
       "      <td>2012.0</td>\n",
       "      <td>автомат</td>\n",
       "      <td>NaN</td>\n",
       "      <td>...</td>\n",
       "      <td>Не требует ремонта</td>\n",
       "      <td>1 владелец</td>\n",
       "      <td>Оригинал</td>\n",
       "      <td>Растаможен</td>\n",
       "      <td>2 месяца</td>\n",
       "      <td>NaN</td>\n",
       "      <td>https://auto.ru/cars/used/sale/volkswagen/golf...</td>\n",
       "      <td>1475000.0</td>\n",
       "      <td>1</td>\n",
       "      <td>0.0</td>\n",
       "    </tr>\n",
       "    <tr>\n",
       "      <th>26932</th>\n",
       "      <td>хэтчбек 5 дв.</td>\n",
       "      <td>volkswagen</td>\n",
       "      <td>чёрный</td>\n",
       "      <td>электро</td>\n",
       "      <td>2012.0</td>\n",
       "      <td>volkswagen хэтчбек 5 дв. nan автомат 115 л.с. ...</td>\n",
       "      <td>5.0</td>\n",
       "      <td>2012.0</td>\n",
       "      <td>автомат</td>\n",
       "      <td>NaN</td>\n",
       "      <td>...</td>\n",
       "      <td>Не требует ремонта</td>\n",
       "      <td>1 владелец</td>\n",
       "      <td>Оригинал</td>\n",
       "      <td>Растаможен</td>\n",
       "      <td>NaN</td>\n",
       "      <td>NaN</td>\n",
       "      <td>https://auto.ru/cars/used/sale/volkswagen/golf...</td>\n",
       "      <td>1940000.0</td>\n",
       "      <td>1</td>\n",
       "      <td>0.0</td>\n",
       "    </tr>\n",
       "    <tr>\n",
       "      <th>38390</th>\n",
       "      <td>хэтчбек 5 дв.</td>\n",
       "      <td>bmw</td>\n",
       "      <td>белый</td>\n",
       "      <td>электро</td>\n",
       "      <td>2013.0</td>\n",
       "      <td>bmw хэтчбек 5 дв. undefined LTR автоматическая...</td>\n",
       "      <td>5.0</td>\n",
       "      <td>2016.0</td>\n",
       "      <td>автомат</td>\n",
       "      <td>NaN</td>\n",
       "      <td>...</td>\n",
       "      <td>Не требует ремонта</td>\n",
       "      <td>1 владелец</td>\n",
       "      <td>Оригинал</td>\n",
       "      <td>Растаможен</td>\n",
       "      <td>NaN</td>\n",
       "      <td>823.0</td>\n",
       "      <td>empty</td>\n",
       "      <td>NaN</td>\n",
       "      <td>0</td>\n",
       "      <td>3.0</td>\n",
       "    </tr>\n",
       "  </tbody>\n",
       "</table>\n",
       "<p>3 rows × 26 columns</p>\n",
       "</div>"
      ],
      "text/plain": [
       "            bodyType       brand    color fuelType  modelDate  \\\n",
       "26889  хэтчбек 5 дв.  volkswagen  голубой  электро     2012.0   \n",
       "26932  хэтчбек 5 дв.  volkswagen   чёрный  электро     2012.0   \n",
       "38390  хэтчбек 5 дв.         bmw    белый  электро     2013.0   \n",
       "\n",
       "                                                    name  numberOfDoors  \\\n",
       "26889  volkswagen хэтчбек 5 дв. nan автомат 115 л.с. ...            5.0   \n",
       "26932  volkswagen хэтчбек 5 дв. nan автомат 115 л.с. ...            5.0   \n",
       "38390  bmw хэтчбек 5 дв. undefined LTR автоматическая...            5.0   \n",
       "\n",
       "       productionDate vehicleTransmission  engineDisplacement  ...  \\\n",
       "26889          2012.0             автомат                 NaN  ...   \n",
       "26932          2012.0             автомат                 NaN  ...   \n",
       "38390          2016.0             автомат                 NaN  ...   \n",
       "\n",
       "                Состояние   Владельцы       ПТС     Таможня  Владение     id  \\\n",
       "26889  Не требует ремонта  1 владелец  Оригинал  Растаможен  2 месяца    NaN   \n",
       "26932  Не требует ремонта  1 владелец  Оригинал  Растаможен       NaN    NaN   \n",
       "38390  Не требует ремонта  1 владелец  Оригинал  Растаможен       NaN  823.0   \n",
       "\n",
       "                                                   hrefs      price label  \\\n",
       "26889  https://auto.ru/cars/used/sale/volkswagen/golf...  1475000.0     1   \n",
       "26932  https://auto.ru/cars/used/sale/volkswagen/golf...  1940000.0     1   \n",
       "38390                                              empty        NaN     0   \n",
       "\n",
       "      date_difference  \n",
       "26889             0.0  \n",
       "26932             0.0  \n",
       "38390             3.0  \n",
       "\n",
       "[3 rows x 26 columns]"
      ]
     },
     "execution_count": 55,
     "metadata": {},
     "output_type": "execute_result"
    }
   ],
   "source": [
    "df[pd.isnull(df.engineDisplacement)]"
   ]
  },
  {
   "cell_type": "markdown",
   "metadata": {},
   "source": [
    "В нашем случае стандартные способы избавления от выбросов не помогут, т.к. устройство электромобилей отличается от классических, поэтому легче всего просто заполнить нулями "
   ]
  },
  {
   "cell_type": "code",
   "execution_count": 56,
   "metadata": {},
   "outputs": [],
   "source": [
    "df.engineDisplacement.fillna(value=0, inplace=True)"
   ]
  },
  {
   "cell_type": "markdown",
   "metadata": {},
   "source": [
    "***enginePower***"
   ]
  },
  {
   "cell_type": "code",
   "execution_count": 57,
   "metadata": {},
   "outputs": [
    {
     "data": {
      "text/plain": [
       "array(['95 л.с.', '116 л.с.', '122 л.с.', '150 л.с.', '156 л.с.',\n",
       "       '190 л.с.', '82 л.с.', '90 л.с.', '102 л.с.', '136 л.с.',\n",
       "       '109 л.с.', '125 л.с.', '211 л.с.', '204 л.с.', '184 л.с.',\n",
       "       '249 л.с.', '163 л.с.', '231 л.с.', '192 л.с.', '129 л.с.',\n",
       "       '197 л.с.', '193 л.с.', '170 л.с.', '333 л.с.', '252 л.с.',\n",
       "       '143 л.с.', '115 л.с.', '250 л.с.', '245 л.с.', '272 л.с.',\n",
       "       '180 л.с.', '218 л.с.', '75 л.с.', '113 л.с.', '306 л.с.',\n",
       "       '408 л.с.', '224 л.с.', '265 л.с.', '388 л.с.', '340 л.с.',\n",
       "       '258 л.с.', '367 л.с.', '402 л.с.', '279 л.с.', '194 л.с.',\n",
       "       '177 л.с.', '320 л.с.', '220 л.с.', '147 л.с.', '186 л.с.',\n",
       "       '126 л.с.', '292 л.с.', '296 л.с.', '422 л.с.', '210 л.с.',\n",
       "       '88 л.с.', '215 л.с.', '241 л.с.', '354 л.с.', '435 л.с.',\n",
       "       '382 л.с.', '235 л.с.', '240 л.с.', '525 л.с.', '455 л.с.',\n",
       "       '469 л.с.', '517 л.с.', '145 л.с.', '394 л.с.', '530 л.с.',\n",
       "       '185 л.с.', '188 л.с.', '242 л.с.', '500 л.с.', '286 л.с.',\n",
       "       '326 л.с.', '160 л.с.', '223 л.с.', '112 л.с.', '300 л.с.',\n",
       "       '299 л.с.', '114 л.с.', '98 л.с.', '79 л.с.', '174 л.с.',\n",
       "       '132 л.с.', '105 л.с.', '118 л.с.', '72 л.с.', '234 л.с.',\n",
       "       '166 л.с.', '94 л.с.', '99 л.с.', '200 л.с.', '161 л.с.',\n",
       "       '277 л.с.', '228 л.с.', '214 л.с.', '275 л.с.', '317 л.с.',\n",
       "       '212 л.с.', '307 л.с.', '222 л.с.', '316 л.с.', '208 л.с.',\n",
       "       '219 л.с.', '347 л.с.', '294 л.с.', '283 л.с.', '270 л.с.',\n",
       "       '263 л.с.', '310 л.с.', '155 л.с.', '181 л.с.', '421 л.с.',\n",
       "       '290 л.с.', '370 л.с.', '380 л.с.', '264 л.с.', '284 л.с.',\n",
       "       '282 л.с.', '383 л.с.', '268 л.с.', '238 л.с.', '230 л.с.',\n",
       "       '276 л.с.', '201 л.с.', '303 л.с.', '288 л.с.', '133 л.с.',\n",
       "       '137 л.с.', '87 л.с.', '165 л.с.', '101 л.с.', '70 л.с.',\n",
       "       '85 л.с.', '100 л.с.', '140 л.с.', '54 л.с.', '93 л.с.', '80 л.с.',\n",
       "       '68 л.с.', '73 л.с.', '110 л.с.', '71 л.с.', '130 л.с.',\n",
       "       '225 л.с.', '120 л.с.', '239 л.с.', '255 л.с.', '233 л.с.',\n",
       "       '335 л.с.', '350 л.с.', '260 л.с.', '372 л.с.', '420 л.с.',\n",
       "       '450 л.с.', '280 л.с.', '285 л.с.', '271 л.с.', '387 л.с.',\n",
       "       '171 л.с.', '86 л.с.', '139 л.с.', '400 л.с.', '407 л.с.',\n",
       "       '381 л.с.', '313 л.с.', '146 л.с.', '243 л.с.', '544 л.с.',\n",
       "       '609 л.с.', '445 л.с.', '610 л.с.', '329 л.с.', '360 л.с.',\n",
       "       '355 л.с.', '269 л.с.', '462 л.с.', '555 л.с.', '575 л.с.',\n",
       "       '60 л.с.', '69 л.с.', '64 л.с.', '84 л.с.', '131 л.с.', '78 л.с.',\n",
       "       '50 л.с.', '57 л.с.', '55 л.с.', '58 л.с.', '65 л.с.', '107 л.с.',\n",
       "       '152 л.с.', '45 л.с.', '104 л.с.', '190 N12', '150 N12', '407 N12',\n",
       "       '249 N12', '381 N12', '245 N12', '177 N12', '184 N12', '115 N12',\n",
       "       '231 N12', '156 N12', '306 N12', '218 N12', '136 N12', '235 N12',\n",
       "       '286 N12', '122 N12', '265 N12', '258 N12', '340 N12', '355 N12',\n",
       "       '170 N12', '333 N12', '192 N12', '610 N12', '264 N12', '555 N12',\n",
       "       '313 N12', '272 N12', '450 N12', '445 N12', '400 N12', '320 N12',\n",
       "       '530 N12', '204 N12', '269 N12', '560 N12', '143 N12', '431 N12',\n",
       "       '575 N12', '193 N12', '140 N12', '420 N12', '163 N12', '105 N12',\n",
       "       '326 N12', '625 N12', '300 N12', '329 N12', '367 N12', '460 N12',\n",
       "       '197 N12', '360 N12', '113 N12', '100 N12', '370 N12', '374 N12',\n",
       "       '462 N12', '188 N12', '544 N12', '129 N12', '102 N12', '600 N12',\n",
       "       '118 N12', '125 N12', '507 N12', '609 N12', '252 N12', '410 N12',\n",
       "       '347 N12', '449 N12', '243 N12', '230 N12', '211 N12', '90 N12'],\n",
       "      dtype=object)"
      ]
     },
     "execution_count": 57,
     "metadata": {},
     "output_type": "execute_result"
    }
   ],
   "source": [
    "df.enginePower.unique()"
   ]
  },
  {
   "cell_type": "code",
   "execution_count": 58,
   "metadata": {},
   "outputs": [],
   "source": [
    "def format_power(value):\n",
    "    value = re.findall(pattern=r'\\d*', string=value)[0]\n",
    "    return int(value)\n",
    "\n",
    "\n",
    "df.loc[:, 'enginePower'] = df.enginePower.apply(format_power)"
   ]
  },
  {
   "cell_type": "markdown",
   "metadata": {},
   "source": [
    "Посмотрим на распределение и прологарифмируем по необходимости"
   ]
  },
  {
   "cell_type": "code",
   "execution_count": 59,
   "metadata": {},
   "outputs": [
    {
     "data": {
      "text/plain": [
       "<matplotlib.axes._subplots.AxesSubplot at 0x7ff930ffa490>"
      ]
     },
     "execution_count": 59,
     "metadata": {},
     "output_type": "execute_result"
    },
    {
     "data": {
      "image/png": "[encoded data removed]",
      "text/plain": [
       "<Figure size 864x576 with 1 Axes>"
      ]
     },
     "metadata": {
      "needs_background": "light"
     },
     "output_type": "display_data"
    }
   ],
   "source": [
    "plt.figure(figsize=[12,8])\n",
    "sns.distplot(df.enginePower)"
   ]
  },
  {
   "cell_type": "markdown",
   "metadata": {},
   "source": [
    "***description***"
   ]
  },
  {
   "cell_type": "code",
   "execution_count": 60,
   "metadata": {},
   "outputs": [
    {
     "data": {
      "text/plain": [
       "0        Коробка в аварийном режиме. Машина на ходу, ез...\n",
       "1        Пpодaeтся надeжный, кpасивый мерcедeс А  клacc...\n",
       "2        Автомобиль в отличном состоянии, 2 владельца, ...\n",
       "3        Отличный , эканомный ,маневреный авто в очень ...\n",
       "4        Продаю MERCEDES-BENZ A 200 Style Limited, 150 ...\n",
       "                               ...                        \n",
       "41399    Продаётся BMW 5 F10 Рестайлинг\\n2 бережливых в...\n",
       "41400    ✪  ✪  ✪  ✪  ✪  ✪  ✪  ✪  ✪ ✪  ✪  ✪  ✪  ✪  ✪  ✪ ...\n",
       "41401    Продам полностью обслуженный автомобиль , сдел...\n",
       "41402    Продаю отличный авто. Полностью обслужен. Лучш...\n",
       "41403    Максимальная комплектация. 22.09.2019 сделано ...\n",
       "Name: description, Length: 41372, dtype: object"
      ]
     },
     "execution_count": 60,
     "metadata": {},
     "output_type": "execute_result"
    }
   ],
   "source": [
    "df.description"
   ]
  },
  {
   "cell_type": "markdown",
   "metadata": {},
   "source": [
    "С этим столбцом, на мой взгляд, ничего делать не стоит, оставим его в таком виде \n",
    "для дальнейших шагов"
   ]
  },
  {
   "cell_type": "markdown",
   "metadata": {},
   "source": [
    "***mileage***"
   ]
  },
  {
   "cell_type": "code",
   "execution_count": 61,
   "metadata": {},
   "outputs": [
    {
     "data": {
      "text/plain": [
       "0        230000.0\n",
       "1        220000.0\n",
       "2         74000.0\n",
       "3        170000.0\n",
       "4         27010.0\n",
       "           ...   \n",
       "41399     98000.0\n",
       "41400    169615.0\n",
       "41401    180000.0\n",
       "41402    137500.0\n",
       "41403     89905.0\n",
       "Name: mileage, Length: 41372, dtype: float64"
      ]
     },
     "execution_count": 61,
     "metadata": {},
     "output_type": "execute_result"
    }
   ],
   "source": [
    "df.mileage"
   ]
  },
  {
   "cell_type": "code",
   "execution_count": 62,
   "metadata": {},
   "outputs": [
    {
     "data": {
      "text/plain": [
       "<matplotlib.axes._subplots.AxesSubplot at 0x7ff92a0a4650>"
      ]
     },
     "execution_count": 62,
     "metadata": {},
     "output_type": "execute_result"
    },
    {
     "data": {
      "image/png": "[encoded data removed]",
      "text/plain": [
       "<Figure size 864x576 with 1 Axes>"
      ]
     },
     "metadata": {
      "needs_background": "light"
     },
     "output_type": "display_data"
    }
   ],
   "source": [
    "plt.figure(figsize=[12,8])\n",
    "sns.boxplot(df.mileage)"
   ]
  },
  {
   "cell_type": "code",
   "execution_count": 63,
   "metadata": {},
   "outputs": [
    {
     "data": {
      "text/plain": [
       "(622, -112000.0, 480000.0)"
      ]
     },
     "execution_count": 63,
     "metadata": {},
     "output_type": "execute_result"
    }
   ],
   "source": [
    "detect_outlires('mileage')"
   ]
  },
  {
   "cell_type": "code",
   "execution_count": 64,
   "metadata": {},
   "outputs": [
    {
     "data": {
      "text/html": [
       "<div>\n",
       "<style scoped>\n",
       "    .dataframe tbody tr th:only-of-type {\n",
       "        vertical-align: middle;\n",
       "    }\n",
       "\n",
       "    .dataframe tbody tr th {\n",
       "        vertical-align: top;\n",
       "    }\n",
       "\n",
       "    .dataframe thead th {\n",
       "        text-align: right;\n",
       "    }\n",
       "</style>\n",
       "<table border=\"1\" class=\"dataframe\">\n",
       "  <thead>\n",
       "    <tr style=\"text-align: right;\">\n",
       "      <th></th>\n",
       "      <th>bodyType</th>\n",
       "      <th>brand</th>\n",
       "      <th>color</th>\n",
       "      <th>fuelType</th>\n",
       "      <th>modelDate</th>\n",
       "      <th>name</th>\n",
       "      <th>numberOfDoors</th>\n",
       "      <th>productionDate</th>\n",
       "      <th>vehicleTransmission</th>\n",
       "      <th>engineDisplacement</th>\n",
       "      <th>...</th>\n",
       "      <th>Состояние</th>\n",
       "      <th>Владельцы</th>\n",
       "      <th>ПТС</th>\n",
       "      <th>Таможня</th>\n",
       "      <th>Владение</th>\n",
       "      <th>id</th>\n",
       "      <th>hrefs</th>\n",
       "      <th>price</th>\n",
       "      <th>label</th>\n",
       "      <th>date_difference</th>\n",
       "    </tr>\n",
       "  </thead>\n",
       "  <tbody>\n",
       "    <tr>\n",
       "      <th>38068</th>\n",
       "      <td>седан</td>\n",
       "      <td>bmw</td>\n",
       "      <td>серебристый</td>\n",
       "      <td>бензин</td>\n",
       "      <td>1990.0</td>\n",
       "      <td>bmw седан 2.5 LTR автоматическая 192 N12 задний</td>\n",
       "      <td>4.0</td>\n",
       "      <td>1995.0</td>\n",
       "      <td>автомат</td>\n",
       "      <td>2.5</td>\n",
       "      <td>...</td>\n",
       "      <td>Не требует ремонта</td>\n",
       "      <td>3 или более</td>\n",
       "      <td>Оригинал</td>\n",
       "      <td>Растаможен</td>\n",
       "      <td>9 месяцев</td>\n",
       "      <td>501.0</td>\n",
       "      <td>empty</td>\n",
       "      <td>NaN</td>\n",
       "      <td>0</td>\n",
       "      <td>5.0</td>\n",
       "    </tr>\n",
       "    <tr>\n",
       "      <th>38269</th>\n",
       "      <td>седан</td>\n",
       "      <td>bmw</td>\n",
       "      <td>чёрный</td>\n",
       "      <td>бензин</td>\n",
       "      <td>1995.0</td>\n",
       "      <td>bmw седан 2.5 LTR автоматическая 170 N12 задний</td>\n",
       "      <td>4.0</td>\n",
       "      <td>1997.0</td>\n",
       "      <td>автомат</td>\n",
       "      <td>2.5</td>\n",
       "      <td>...</td>\n",
       "      <td>Не требует ремонта</td>\n",
       "      <td>3 или более</td>\n",
       "      <td>Дубликат</td>\n",
       "      <td>Растаможен</td>\n",
       "      <td>1 год и 2 месяца</td>\n",
       "      <td>702.0</td>\n",
       "      <td>empty</td>\n",
       "      <td>NaN</td>\n",
       "      <td>0</td>\n",
       "      <td>2.0</td>\n",
       "    </tr>\n",
       "    <tr>\n",
       "      <th>38730</th>\n",
       "      <td>универсал 5 дв.</td>\n",
       "      <td>bmw</td>\n",
       "      <td>серый</td>\n",
       "      <td>бензин</td>\n",
       "      <td>1987.0</td>\n",
       "      <td>bmw универсал 5 дв. 2.0 LTR автоматическая 150...</td>\n",
       "      <td>5.0</td>\n",
       "      <td>1994.0</td>\n",
       "      <td>автомат</td>\n",
       "      <td>2.0</td>\n",
       "      <td>...</td>\n",
       "      <td>Не требует ремонта</td>\n",
       "      <td>3 или более</td>\n",
       "      <td>Оригинал</td>\n",
       "      <td>Растаможен</td>\n",
       "      <td>14 лет и 6 месяцев</td>\n",
       "      <td>1163.0</td>\n",
       "      <td>empty</td>\n",
       "      <td>NaN</td>\n",
       "      <td>0</td>\n",
       "      <td>7.0</td>\n",
       "    </tr>\n",
       "    <tr>\n",
       "      <th>38795</th>\n",
       "      <td>седан</td>\n",
       "      <td>bmw</td>\n",
       "      <td>чёрный</td>\n",
       "      <td>бензин</td>\n",
       "      <td>1986.0</td>\n",
       "      <td>bmw седан 3.0 LTR механическая 188 N12 задний</td>\n",
       "      <td>4.0</td>\n",
       "      <td>1989.0</td>\n",
       "      <td>механика</td>\n",
       "      <td>3.0</td>\n",
       "      <td>...</td>\n",
       "      <td>Не требует ремонта</td>\n",
       "      <td>1 владелец</td>\n",
       "      <td>Дубликат</td>\n",
       "      <td>Растаможен</td>\n",
       "      <td>NaN</td>\n",
       "      <td>1228.0</td>\n",
       "      <td>empty</td>\n",
       "      <td>NaN</td>\n",
       "      <td>0</td>\n",
       "      <td>3.0</td>\n",
       "    </tr>\n",
       "    <tr>\n",
       "      <th>40537</th>\n",
       "      <td>седан</td>\n",
       "      <td>bmw</td>\n",
       "      <td>чёрный</td>\n",
       "      <td>бензин</td>\n",
       "      <td>1987.0</td>\n",
       "      <td>bmw седан 2.0 LTR механическая 150 N12 задний</td>\n",
       "      <td>4.0</td>\n",
       "      <td>1993.0</td>\n",
       "      <td>механика</td>\n",
       "      <td>2.0</td>\n",
       "      <td>...</td>\n",
       "      <td>Не требует ремонта</td>\n",
       "      <td>3 или более</td>\n",
       "      <td>Оригинал</td>\n",
       "      <td>Растаможен</td>\n",
       "      <td>14 лет и 7 месяцев</td>\n",
       "      <td>2970.0</td>\n",
       "      <td>empty</td>\n",
       "      <td>NaN</td>\n",
       "      <td>0</td>\n",
       "      <td>6.0</td>\n",
       "    </tr>\n",
       "    <tr>\n",
       "      <th>41280</th>\n",
       "      <td>седан</td>\n",
       "      <td>bmw</td>\n",
       "      <td>зелёный</td>\n",
       "      <td>бензин</td>\n",
       "      <td>1987.0</td>\n",
       "      <td>bmw седан 2.0 LTR механическая 150 N12 задний</td>\n",
       "      <td>4.0</td>\n",
       "      <td>1995.0</td>\n",
       "      <td>механика</td>\n",
       "      <td>2.0</td>\n",
       "      <td>...</td>\n",
       "      <td>Не требует ремонта</td>\n",
       "      <td>3 или более</td>\n",
       "      <td>Дубликат</td>\n",
       "      <td>Растаможен</td>\n",
       "      <td>7 лет и 4 месяца</td>\n",
       "      <td>3713.0</td>\n",
       "      <td>empty</td>\n",
       "      <td>NaN</td>\n",
       "      <td>0</td>\n",
       "      <td>8.0</td>\n",
       "    </tr>\n",
       "  </tbody>\n",
       "</table>\n",
       "<p>6 rows × 26 columns</p>\n",
       "</div>"
      ],
      "text/plain": [
       "              bodyType brand        color fuelType  modelDate  \\\n",
       "38068            седан   bmw  серебристый   бензин     1990.0   \n",
       "38269            седан   bmw       чёрный   бензин     1995.0   \n",
       "38730  универсал 5 дв.   bmw        серый   бензин     1987.0   \n",
       "38795            седан   bmw       чёрный   бензин     1986.0   \n",
       "40537            седан   bmw       чёрный   бензин     1987.0   \n",
       "41280            седан   bmw      зелёный   бензин     1987.0   \n",
       "\n",
       "                                                    name  numberOfDoors  \\\n",
       "38068    bmw седан 2.5 LTR автоматическая 192 N12 задний            4.0   \n",
       "38269    bmw седан 2.5 LTR автоматическая 170 N12 задний            4.0   \n",
       "38730  bmw универсал 5 дв. 2.0 LTR автоматическая 150...            5.0   \n",
       "38795      bmw седан 3.0 LTR механическая 188 N12 задний            4.0   \n",
       "40537      bmw седан 2.0 LTR механическая 150 N12 задний            4.0   \n",
       "41280      bmw седан 2.0 LTR механическая 150 N12 задний            4.0   \n",
       "\n",
       "       productionDate vehicleTransmission  engineDisplacement  ...  \\\n",
       "38068          1995.0             автомат                 2.5  ...   \n",
       "38269          1997.0             автомат                 2.5  ...   \n",
       "38730          1994.0             автомат                 2.0  ...   \n",
       "38795          1989.0            механика                 3.0  ...   \n",
       "40537          1993.0            механика                 2.0  ...   \n",
       "41280          1995.0            механика                 2.0  ...   \n",
       "\n",
       "                Состояние    Владельцы       ПТС     Таможня  \\\n",
       "38068  Не требует ремонта  3 или более  Оригинал  Растаможен   \n",
       "38269  Не требует ремонта  3 или более  Дубликат  Растаможен   \n",
       "38730  Не требует ремонта  3 или более  Оригинал  Растаможен   \n",
       "38795  Не требует ремонта   1 владелец  Дубликат  Растаможен   \n",
       "40537  Не требует ремонта  3 или более  Оригинал  Растаможен   \n",
       "41280  Не требует ремонта  3 или более  Дубликат  Растаможен   \n",
       "\n",
       "                 Владение      id  hrefs price label date_difference  \n",
       "38068           9 месяцев   501.0  empty   NaN     0             5.0  \n",
       "38269    1 год и 2 месяца   702.0  empty   NaN     0             2.0  \n",
       "38730  14 лет и 6 месяцев  1163.0  empty   NaN     0             7.0  \n",
       "38795                 NaN  1228.0  empty   NaN     0             3.0  \n",
       "40537  14 лет и 7 месяцев  2970.0  empty   NaN     0             6.0  \n",
       "41280    7 лет и 4 месяца  3713.0  empty   NaN     0             8.0  \n",
       "\n",
       "[6 rows x 26 columns]"
      ]
     },
     "execution_count": 64,
     "metadata": {},
     "output_type": "execute_result"
    }
   ],
   "source": [
    "df[(df.label==0) & (df.mileage>480000)]"
   ]
  },
  {
   "cell_type": "code",
   "execution_count": 65,
   "metadata": {},
   "outputs": [
    {
     "data": {
      "text/plain": [
       "<matplotlib.axes._subplots.AxesSubplot at 0x7ff930ed1e50>"
      ]
     },
     "execution_count": 65,
     "metadata": {},
     "output_type": "execute_result"
    },
    {
     "data": {
      "image/png": "[encoded data removed]",
      "text/plain": [
       "<Figure size 864x576 with 1 Axes>"
      ]
     },
     "metadata": {
      "needs_background": "light"
     },
     "output_type": "display_data"
    }
   ],
   "source": [
    "plt.figure(figsize=[12,8])\n",
    "sns.distplot(df['mileage'])"
   ]
  },
  {
   "cell_type": "markdown",
   "metadata": {},
   "source": [
    "***Комплектация***"
   ]
  },
  {
   "cell_type": "code",
   "execution_count": 66,
   "metadata": {},
   "outputs": [
    {
     "data": {
      "text/plain": [
       "0                                                       []\n",
       "1                                                       []\n",
       "2        [{'Комфорт': ['Круиз-контроль – платная опция'...\n",
       "3                                                       []\n",
       "4        [{'Салон': ['Искусственная кожа (Материал сало...\n",
       "                               ...                        \n",
       "41399    ['[{\"name\":\"Комфорт\",\"values\":[\"Круиз-контроль...\n",
       "41400    ['[{\"name\":\"Комфорт\",\"values\":[\"Круиз-контроль...\n",
       "41401    ['[{\"name\":\"Комфорт\",\"values\":[\"Круиз-контроль...\n",
       "41402    ['[{\"name\":\"Комфорт\",\"values\":[\"Круиз-контроль...\n",
       "41403    ['[{\"name\":\"Комфорт\",\"values\":[\"Круиз-контроль...\n",
       "Name: Комплектация, Length: 41372, dtype: object"
      ]
     },
     "execution_count": 66,
     "metadata": {},
     "output_type": "execute_result"
    }
   ],
   "source": [
    "df['Комплектация']"
   ]
  },
  {
   "cell_type": "markdown",
   "metadata": {},
   "source": [
    "Заполнить пропуски мы не сможем"
   ]
  },
  {
   "cell_type": "code",
   "execution_count": 67,
   "metadata": {},
   "outputs": [
    {
     "name": "stdout",
     "output_type": "stream",
     "text": [
      "<class 'pandas.core.frame.DataFrame'>\n",
      "Int64Index: 41372 entries, 0 to 41403\n",
      "Data columns (total 26 columns):\n",
      " #   Column               Non-Null Count  Dtype  \n",
      "---  ------               --------------  -----  \n",
      " 0   bodyType             41372 non-null  object \n",
      " 1   brand                41372 non-null  object \n",
      " 2   color                41372 non-null  object \n",
      " 3   fuelType             41372 non-null  object \n",
      " 4   modelDate            41372 non-null  float64\n",
      " 5   name                 41372 non-null  object \n",
      " 6   numberOfDoors        41372 non-null  float64\n",
      " 7   productionDate       41372 non-null  float64\n",
      " 8   vehicleTransmission  41372 non-null  object \n",
      " 9   engineDisplacement   41372 non-null  float64\n",
      " 10  enginePower          41372 non-null  int64  \n",
      " 11  description          41368 non-null  object \n",
      " 12  mileage              41372 non-null  float64\n",
      " 13  Комплектация         41372 non-null  object \n",
      " 14  Привод               41372 non-null  object \n",
      " 15  Руль                 41372 non-null  object \n",
      " 16  Состояние            41372 non-null  object \n",
      " 17  Владельцы            41368 non-null  object \n",
      " 18  ПТС                  41371 non-null  object \n",
      " 19  Таможня              41372 non-null  object \n",
      " 20  Владение             14313 non-null  object \n",
      " 21  id                   3837 non-null   float64\n",
      " 22  hrefs                41372 non-null  object \n",
      " 23  price                37535 non-null  float64\n",
      " 24  label                41372 non-null  int64  \n",
      " 25  date_difference      41372 non-null  float64\n",
      "dtypes: float64(8), int64(2), object(16)\n",
      "memory usage: 9.8+ MB\n"
     ]
    }
   ],
   "source": [
    "df.info()"
   ]
  },
  {
   "cell_type": "markdown",
   "metadata": {},
   "source": [
    "***Привод***"
   ]
  },
  {
   "cell_type": "code",
   "execution_count": 68,
   "metadata": {},
   "outputs": [
    {
     "data": {
      "text/plain": [
       "<matplotlib.axes._subplots.AxesSubplot at 0x7ff931450150>"
      ]
     },
     "execution_count": 68,
     "metadata": {},
     "output_type": "execute_result"
    },
    {
     "data": {
      "image/png": "[encoded data removed]",
      "text/plain": [
       "<Figure size 432x288 with 1 Axes>"
      ]
     },
     "metadata": {
      "needs_background": "light"
     },
     "output_type": "display_data"
    }
   ],
   "source": [
    "sns.countplot(df['Привод'])"
   ]
  },
  {
   "cell_type": "markdown",
   "metadata": {},
   "source": [
    "***Руль***"
   ]
  },
  {
   "cell_type": "code",
   "execution_count": 69,
   "metadata": {},
   "outputs": [
    {
     "data": {
      "text/plain": [
       "<matplotlib.axes._subplots.AxesSubplot at 0x7ff92b74d790>"
      ]
     },
     "execution_count": 69,
     "metadata": {},
     "output_type": "execute_result"
    },
    {
     "data": {
      "image/png": "[encoded data removed]",
      "text/plain": [
       "<Figure size 432x288 with 1 Axes>"
      ]
     },
     "metadata": {
      "needs_background": "light"
     },
     "output_type": "display_data"
    }
   ],
   "source": [
    "sns.countplot(df['Руль'])"
   ]
  },
  {
   "cell_type": "code",
   "execution_count": 70,
   "metadata": {},
   "outputs": [],
   "source": [
    "df.drop(['Руль'], axis=1, inplace=True)"
   ]
  },
  {
   "cell_type": "markdown",
   "metadata": {},
   "source": [
    "***Состояние***"
   ]
  },
  {
   "cell_type": "code",
   "execution_count": 71,
   "metadata": {},
   "outputs": [
    {
     "data": {
      "text/plain": [
       "<matplotlib.axes._subplots.AxesSubplot at 0x7ff92b778990>"
      ]
     },
     "execution_count": 71,
     "metadata": {},
     "output_type": "execute_result"
    },
    {
     "data": {
      "image/png": "[encoded data removed]",
      "text/plain": [
       "<Figure size 432x288 with 1 Axes>"
      ]
     },
     "metadata": {
      "needs_background": "light"
     },
     "output_type": "display_data"
    }
   ],
   "source": [
    "sns.countplot(df['Состояние'])"
   ]
  },
  {
   "cell_type": "code",
   "execution_count": 72,
   "metadata": {},
   "outputs": [
    {
     "data": {
      "text/plain": [
       "Не требует ремонта    3837\n",
       "Name: Состояние, dtype: int64"
      ]
     },
     "execution_count": 72,
     "metadata": {},
     "output_type": "execute_result"
    }
   ],
   "source": [
    "df[df.label == 0]['Состояние'].value_counts()"
   ]
  },
  {
   "cell_type": "code",
   "execution_count": 73,
   "metadata": {},
   "outputs": [],
   "source": [
    "df.drop(['Состояние'], inplace=True, axis=1)"
   ]
  },
  {
   "cell_type": "markdown",
   "metadata": {},
   "source": [
    "***Владельцы***"
   ]
  },
  {
   "cell_type": "code",
   "execution_count": 74,
   "metadata": {},
   "outputs": [
    {
     "data": {
      "text/plain": [
       "3 или более    25013\n",
       "2 владельца     8435\n",
       "1 владелец      5599\n",
       "1 владелец      1309\n",
       "2 владельца     1012\n",
       "NaN                4\n",
       "Name: Владельцы, dtype: int64"
      ]
     },
     "execution_count": 74,
     "metadata": {},
     "output_type": "execute_result"
    }
   ],
   "source": [
    "df['Владельцы'].value_counts(dropna=False)"
   ]
  },
  {
   "cell_type": "code",
   "execution_count": 75,
   "metadata": {},
   "outputs": [
    {
     "data": {
      "text/plain": [
       "3 или более    1516\n",
       "1 владелец     1309\n",
       "2 владельца    1012\n",
       "Name: Владельцы, dtype: int64"
      ]
     },
     "execution_count": 75,
     "metadata": {},
     "output_type": "execute_result"
    }
   ],
   "source": [
    "df[df.label == 0]['Владельцы'].value_counts(dropna=False)"
   ]
  },
  {
   "cell_type": "code",
   "execution_count": 76,
   "metadata": {},
   "outputs": [],
   "source": [
    "df.dropna(inplace=True, subset=['Владельцы'])"
   ]
  },
  {
   "cell_type": "code",
   "execution_count": 77,
   "metadata": {},
   "outputs": [],
   "source": [
    "def format_owner(string):\n",
    "    if '1' in string:\n",
    "        return 1\n",
    "    elif '2' in string:\n",
    "        return 2\n",
    "    elif '3' in string:\n",
    "        return 3\n",
    "\n",
    "\n",
    "df.loc[:, 'Владельцы'] = df['Владельцы'].apply(format_owner)"
   ]
  },
  {
   "cell_type": "code",
   "execution_count": 78,
   "metadata": {},
   "outputs": [
    {
     "data": {
      "text/plain": [
       "3    25013\n",
       "2     9447\n",
       "1     6908\n",
       "Name: Владельцы, dtype: int64"
      ]
     },
     "execution_count": 78,
     "metadata": {},
     "output_type": "execute_result"
    }
   ],
   "source": [
    "df['Владельцы'].value_counts(dropna=False)"
   ]
  },
  {
   "cell_type": "markdown",
   "metadata": {},
   "source": [
    "***ПТС***"
   ]
  },
  {
   "cell_type": "code",
   "execution_count": 79,
   "metadata": {},
   "outputs": [
    {
     "data": {
      "text/plain": [
       "Оригинал    33306\n",
       "Дубликат     8061\n",
       "Name: ПТС, dtype: int64"
      ]
     },
     "execution_count": 79,
     "metadata": {},
     "output_type": "execute_result"
    }
   ],
   "source": [
    "df['ПТС'].value_counts()"
   ]
  },
  {
   "cell_type": "code",
   "execution_count": 80,
   "metadata": {},
   "outputs": [
    {
     "data": {
      "text/plain": [
       "0"
      ]
     },
     "execution_count": 80,
     "metadata": {},
     "output_type": "execute_result"
    }
   ],
   "source": [
    "df[df.label == 0]['ПТС'].isnull().sum()"
   ]
  },
  {
   "cell_type": "code",
   "execution_count": 81,
   "metadata": {},
   "outputs": [],
   "source": [
    "df.dropna(inplace=True, subset=['ПТС'])"
   ]
  },
  {
   "cell_type": "markdown",
   "metadata": {},
   "source": [
    "***Таможня***"
   ]
  },
  {
   "cell_type": "code",
   "execution_count": 82,
   "metadata": {},
   "outputs": [
    {
     "data": {
      "text/plain": [
       "Растаможен    41367\n",
       "Name: Таможня, dtype: int64"
      ]
     },
     "execution_count": 82,
     "metadata": {},
     "output_type": "execute_result"
    }
   ],
   "source": [
    "df['Таможня'].value_counts()"
   ]
  },
  {
   "cell_type": "code",
   "execution_count": 83,
   "metadata": {},
   "outputs": [],
   "source": [
    "df.drop(['Таможня'], inplace=True, axis=1)"
   ]
  },
  {
   "cell_type": "markdown",
   "metadata": {},
   "source": [
    "***Владение***"
   ]
  },
  {
   "cell_type": "code",
   "execution_count": 84,
   "metadata": {},
   "outputs": [
    {
     "data": {
      "text/plain": [
       "NaN                    27054\n",
       "1 год                    282\n",
       "1 год и 4 месяца         272\n",
       "1 год и 2 месяца         267\n",
       "1 год и 8 месяцев        252\n",
       "                       ...  \n",
       "26 лет и 2 месяца          1\n",
       "29 лет                     1\n",
       "20 лет и 6 месяцев         1\n",
       "24 года и 6 месяцев        1\n",
       "22 года и 3 месяца         1\n",
       "Name: Владение, Length: 286, dtype: int64"
      ]
     },
     "execution_count": 84,
     "metadata": {},
     "output_type": "execute_result"
    }
   ],
   "source": [
    "df['Владение'].value_counts(dropna=False)"
   ]
  },
  {
   "cell_type": "code",
   "execution_count": 85,
   "metadata": {},
   "outputs": [],
   "source": [
    "def fill_possession(row):\n",
    "    if pd.isnull(row['Владение']):\n",
    "        return row\n",
    "    possession = row['Владение']\n",
    "    if possession.split(' ')[1].lower() in ['год', 'года', 'лет']:\n",
    "        res = re.findall(pattern='\\d+', string=possession)\n",
    "        row['Владение'] = float('.'.join(res))\n",
    "        return row\n",
    "    else:\n",
    "        res = re.findall(pattern='\\d*', string=possession)\n",
    "        row['Владение'] = round(float(res[0]) / 12, 1)\n",
    "        return row"
   ]
  },
  {
   "cell_type": "code",
   "execution_count": 86,
   "metadata": {},
   "outputs": [],
   "source": [
    "df = df.apply(fill_possession, axis=1)"
   ]
  },
  {
   "cell_type": "code",
   "execution_count": 87,
   "metadata": {},
   "outputs": [],
   "source": [
    "def fill_na_possession(row):\n",
    "    if pd.isnull(row['Владение']):\n",
    "        row['Владение'] = round(\n",
    "            df[df.productionDate == row['productionDate']]['Владение'].mean(),\n",
    "            1)\n",
    "    return row\n",
    "\n",
    "\n",
    "df = df.apply(fill_na_possession, axis=1)"
   ]
  },
  {
   "cell_type": "markdown",
   "metadata": {},
   "source": [
    "df.to_csv('eda_df.csv')"
   ]
  },
  {
   "cell_type": "code",
   "execution_count": 34,
   "metadata": {},
   "outputs": [],
   "source": [
    "def init_cols():\n",
    "    bin_cols = ['ПТС']\n",
    "    cat_cols = [\n",
    "        'bodyType', 'brand', 'color', 'fuelType', 'numberOfDoors',\n",
    "        'vehicleTransmission', 'Привод', 'Владельцы'\n",
    "    ]\n",
    "    num_cols = [\n",
    "        'modelDate', 'productionDate', 'engineDisplacement', 'enginePower',\n",
    "        'mileage', 'Владение'\n",
    "    ]\n",
    "    drop_cols = [\n",
    "        'name', 'description', 'Комплектация', 'hrefs','id', 'label', 'date_difference'\n",
    "    ]\n",
    "    return bin_cols,cat_cols,num_cols,drop_cols\n",
    "bin_cols,cat_cols,num_cols,drop_cols=init_cols()"
   ]
  },
  {
   "cell_type": "code",
   "execution_count": 35,
   "metadata": {},
   "outputs": [],
   "source": [
    "def cat_preproc(test):\n",
    "    for feature in num_cols+['numberOfDoors']:\n",
    "        test[feature]=(test[feature].astype('float')).astype('int32')\n",
    "    \n",
    "    sc=StandardScaler()\n",
    "    train=test[test.label==1]\n",
    "    test=test[test.label==0]\n",
    "    train.loc[:,'price']=sc.fit_transform(train[['price']])\n",
    "    train = train.drop(drop_cols, axis=1)\n",
    "    test_drop_cols=drop_cols.copy()\n",
    "    test_drop_cols.remove('id')\n",
    "    test = test.drop(test_drop_cols+['price'], axis=1)\n",
    "    return test,train,sc"
   ]
  },
  {
   "cell_type": "code",
   "execution_count": 36,
   "metadata": {},
   "outputs": [],
   "source": [
    "def cat_model():\n",
    "    test,train,cat_scaler=cat_preproc(df.copy())\n",
    "    X_train, X_test, y_train, y_test = train_test_split(train.drop(['price'],\n",
    "                                                              axis=1),\n",
    "                                                    train['price'],\n",
    "                                                    test_size=0.2,\n",
    "                                                    random_state=42,\n",
    "                                                   shuffle=True)\n",
    "    cat_features_ids = np.where(X_train.apply(pd.Series.nunique) < 29)[0].tolist()\n",
    "    model = CatBoostRegressor(iterations = 2000,\n",
    "                              learning_rate = 0.1,\n",
    "                              random_seed = 42,\n",
    "                              eval_metric='MAPE',\n",
    "                              custom_metric=['R2', 'RMSE']\n",
    "                             )\n",
    "    model.fit(X_train, y_train,\n",
    "             cat_features=cat_features_ids,\n",
    "             eval_set=(X_test, y_test),\n",
    "             verbose_eval=100,\n",
    "             use_best_model=True,\n",
    "             plot=True\n",
    "             )"
   ]
  },
  {
   "cell_type": "code",
   "execution_count": 37,
   "metadata": {
    "scrolled": true
   },
   "outputs": [
    {
     "ename": "ValueError",
     "evalue": "could not convert string to float: 'Оригинал'",
     "output_type": "error",
     "traceback": [
      "\u001b[0;31m---------------------------------------------------------------------------\u001b[0m",
      "\u001b[0;31mValueError\u001b[0m                                Traceback (most recent call last)",
      "\u001b[0;32m<ipython-input-37-bd0cb9c17072>\u001b[0m in \u001b[0;36m<module>\u001b[0;34m\u001b[0m\n\u001b[0;32m----> 1\u001b[0;31m \u001b[0mcat_model\u001b[0m\u001b[0;34m(\u001b[0m\u001b[0;34m)\u001b[0m\u001b[0;34m\u001b[0m\u001b[0;34m\u001b[0m\u001b[0m\n\u001b[0m",
      "\u001b[0;32m<ipython-input-36-4bc2445b9905>\u001b[0m in \u001b[0;36mcat_model\u001b[0;34m()\u001b[0m\n\u001b[1;32m      1\u001b[0m \u001b[0;32mdef\u001b[0m \u001b[0mcat_model\u001b[0m\u001b[0;34m(\u001b[0m\u001b[0;34m)\u001b[0m\u001b[0;34m:\u001b[0m\u001b[0;34m\u001b[0m\u001b[0;34m\u001b[0m\u001b[0m\n\u001b[0;32m----> 2\u001b[0;31m     \u001b[0mtest\u001b[0m\u001b[0;34m,\u001b[0m\u001b[0mtrain\u001b[0m\u001b[0;34m,\u001b[0m\u001b[0mcat_scaler\u001b[0m\u001b[0;34m=\u001b[0m\u001b[0mcat_preproc\u001b[0m\u001b[0;34m(\u001b[0m\u001b[0mdf\u001b[0m\u001b[0;34m.\u001b[0m\u001b[0mcopy\u001b[0m\u001b[0;34m(\u001b[0m\u001b[0;34m)\u001b[0m\u001b[0;34m)\u001b[0m\u001b[0;34m\u001b[0m\u001b[0;34m\u001b[0m\u001b[0m\n\u001b[0m\u001b[1;32m      3\u001b[0m     X_train, X_test, y_train, y_test = train_test_split(train.drop(['price'],\n\u001b[1;32m      4\u001b[0m                                                               axis=1),\n\u001b[1;32m      5\u001b[0m                                                     \u001b[0mtrain\u001b[0m\u001b[0;34m[\u001b[0m\u001b[0;34m'price'\u001b[0m\u001b[0;34m]\u001b[0m\u001b[0;34m,\u001b[0m\u001b[0;34m\u001b[0m\u001b[0;34m\u001b[0m\u001b[0m\n",
      "\u001b[0;32m<ipython-input-35-421a729b7083>\u001b[0m in \u001b[0;36mcat_preproc\u001b[0;34m(test)\u001b[0m\n\u001b[1;32m      1\u001b[0m \u001b[0;32mdef\u001b[0m \u001b[0mcat_preproc\u001b[0m\u001b[0;34m(\u001b[0m\u001b[0mtest\u001b[0m\u001b[0;34m)\u001b[0m\u001b[0;34m:\u001b[0m\u001b[0;34m\u001b[0m\u001b[0;34m\u001b[0m\u001b[0m\n\u001b[1;32m      2\u001b[0m     \u001b[0;32mfor\u001b[0m \u001b[0mfeature\u001b[0m \u001b[0;32min\u001b[0m \u001b[0mnum_cols\u001b[0m\u001b[0;34m+\u001b[0m\u001b[0;34m[\u001b[0m\u001b[0;34m'numberOfDoors'\u001b[0m\u001b[0;34m]\u001b[0m\u001b[0;34m:\u001b[0m\u001b[0;34m\u001b[0m\u001b[0;34m\u001b[0m\u001b[0m\n\u001b[0;32m----> 3\u001b[0;31m         \u001b[0mtest\u001b[0m\u001b[0;34m[\u001b[0m\u001b[0mfeature\u001b[0m\u001b[0;34m]\u001b[0m\u001b[0;34m=\u001b[0m\u001b[0;34m(\u001b[0m\u001b[0mtest\u001b[0m\u001b[0;34m[\u001b[0m\u001b[0mfeature\u001b[0m\u001b[0;34m]\u001b[0m\u001b[0;34m.\u001b[0m\u001b[0mastype\u001b[0m\u001b[0;34m(\u001b[0m\u001b[0;34m'float'\u001b[0m\u001b[0;34m)\u001b[0m\u001b[0;34m)\u001b[0m\u001b[0;34m.\u001b[0m\u001b[0mastype\u001b[0m\u001b[0;34m(\u001b[0m\u001b[0;34m'int32'\u001b[0m\u001b[0;34m)\u001b[0m\u001b[0;34m\u001b[0m\u001b[0;34m\u001b[0m\u001b[0m\n\u001b[0m\u001b[1;32m      4\u001b[0m \u001b[0;34m\u001b[0m\u001b[0m\n\u001b[1;32m      5\u001b[0m     \u001b[0msc\u001b[0m\u001b[0;34m=\u001b[0m\u001b[0mStandardScaler\u001b[0m\u001b[0;34m(\u001b[0m\u001b[0;34m)\u001b[0m\u001b[0;34m\u001b[0m\u001b[0;34m\u001b[0m\u001b[0m\n",
      "\u001b[0;32m~/.local/lib/python3.7/site-packages/pandas/core/generic.py\u001b[0m in \u001b[0;36mastype\u001b[0;34m(self, dtype, copy, errors)\u001b[0m\n\u001b[1;32m   5696\u001b[0m         \u001b[0;32melse\u001b[0m\u001b[0;34m:\u001b[0m\u001b[0;34m\u001b[0m\u001b[0;34m\u001b[0m\u001b[0m\n\u001b[1;32m   5697\u001b[0m             \u001b[0;31m# else, only a single dtype is given\u001b[0m\u001b[0;34m\u001b[0m\u001b[0;34m\u001b[0m\u001b[0;34m\u001b[0m\u001b[0m\n\u001b[0;32m-> 5698\u001b[0;31m             \u001b[0mnew_data\u001b[0m \u001b[0;34m=\u001b[0m \u001b[0mself\u001b[0m\u001b[0;34m.\u001b[0m\u001b[0m_data\u001b[0m\u001b[0;34m.\u001b[0m\u001b[0mastype\u001b[0m\u001b[0;34m(\u001b[0m\u001b[0mdtype\u001b[0m\u001b[0;34m=\u001b[0m\u001b[0mdtype\u001b[0m\u001b[0;34m,\u001b[0m \u001b[0mcopy\u001b[0m\u001b[0;34m=\u001b[0m\u001b[0mcopy\u001b[0m\u001b[0;34m,\u001b[0m \u001b[0merrors\u001b[0m\u001b[0;34m=\u001b[0m\u001b[0merrors\u001b[0m\u001b[0;34m)\u001b[0m\u001b[0;34m\u001b[0m\u001b[0;34m\u001b[0m\u001b[0m\n\u001b[0m\u001b[1;32m   5699\u001b[0m             \u001b[0;32mreturn\u001b[0m \u001b[0mself\u001b[0m\u001b[0;34m.\u001b[0m\u001b[0m_constructor\u001b[0m\u001b[0;34m(\u001b[0m\u001b[0mnew_data\u001b[0m\u001b[0;34m)\u001b[0m\u001b[0;34m.\u001b[0m\u001b[0m__finalize__\u001b[0m\u001b[0;34m(\u001b[0m\u001b[0mself\u001b[0m\u001b[0;34m)\u001b[0m\u001b[0;34m\u001b[0m\u001b[0;34m\u001b[0m\u001b[0m\n\u001b[1;32m   5700\u001b[0m \u001b[0;34m\u001b[0m\u001b[0m\n",
      "\u001b[0;32m~/.local/lib/python3.7/site-packages/pandas/core/internals/managers.py\u001b[0m in \u001b[0;36mastype\u001b[0;34m(self, dtype, copy, errors)\u001b[0m\n\u001b[1;32m    580\u001b[0m \u001b[0;34m\u001b[0m\u001b[0m\n\u001b[1;32m    581\u001b[0m     \u001b[0;32mdef\u001b[0m \u001b[0mastype\u001b[0m\u001b[0;34m(\u001b[0m\u001b[0mself\u001b[0m\u001b[0;34m,\u001b[0m \u001b[0mdtype\u001b[0m\u001b[0;34m,\u001b[0m \u001b[0mcopy\u001b[0m\u001b[0;34m:\u001b[0m \u001b[0mbool\u001b[0m \u001b[0;34m=\u001b[0m \u001b[0;32mFalse\u001b[0m\u001b[0;34m,\u001b[0m \u001b[0merrors\u001b[0m\u001b[0;34m:\u001b[0m \u001b[0mstr\u001b[0m \u001b[0;34m=\u001b[0m \u001b[0;34m\"raise\"\u001b[0m\u001b[0;34m)\u001b[0m\u001b[0;34m:\u001b[0m\u001b[0;34m\u001b[0m\u001b[0;34m\u001b[0m\u001b[0m\n\u001b[0;32m--> 582\u001b[0;31m         \u001b[0;32mreturn\u001b[0m \u001b[0mself\u001b[0m\u001b[0;34m.\u001b[0m\u001b[0mapply\u001b[0m\u001b[0;34m(\u001b[0m\u001b[0;34m\"astype\"\u001b[0m\u001b[0;34m,\u001b[0m \u001b[0mdtype\u001b[0m\u001b[0;34m=\u001b[0m\u001b[0mdtype\u001b[0m\u001b[0;34m,\u001b[0m \u001b[0mcopy\u001b[0m\u001b[0;34m=\u001b[0m\u001b[0mcopy\u001b[0m\u001b[0;34m,\u001b[0m \u001b[0merrors\u001b[0m\u001b[0;34m=\u001b[0m\u001b[0merrors\u001b[0m\u001b[0;34m)\u001b[0m\u001b[0;34m\u001b[0m\u001b[0;34m\u001b[0m\u001b[0m\n\u001b[0m\u001b[1;32m    583\u001b[0m \u001b[0;34m\u001b[0m\u001b[0m\n\u001b[1;32m    584\u001b[0m     \u001b[0;32mdef\u001b[0m \u001b[0mconvert\u001b[0m\u001b[0;34m(\u001b[0m\u001b[0mself\u001b[0m\u001b[0;34m,\u001b[0m \u001b[0;34m**\u001b[0m\u001b[0mkwargs\u001b[0m\u001b[0;34m)\u001b[0m\u001b[0;34m:\u001b[0m\u001b[0;34m\u001b[0m\u001b[0;34m\u001b[0m\u001b[0m\n",
      "\u001b[0;32m~/.local/lib/python3.7/site-packages/pandas/core/internals/managers.py\u001b[0m in \u001b[0;36mapply\u001b[0;34m(self, f, filter, **kwargs)\u001b[0m\n\u001b[1;32m    440\u001b[0m                 \u001b[0mapplied\u001b[0m \u001b[0;34m=\u001b[0m \u001b[0mb\u001b[0m\u001b[0;34m.\u001b[0m\u001b[0mapply\u001b[0m\u001b[0;34m(\u001b[0m\u001b[0mf\u001b[0m\u001b[0;34m,\u001b[0m \u001b[0;34m**\u001b[0m\u001b[0mkwargs\u001b[0m\u001b[0;34m)\u001b[0m\u001b[0;34m\u001b[0m\u001b[0;34m\u001b[0m\u001b[0m\n\u001b[1;32m    441\u001b[0m             \u001b[0;32melse\u001b[0m\u001b[0;34m:\u001b[0m\u001b[0;34m\u001b[0m\u001b[0;34m\u001b[0m\u001b[0m\n\u001b[0;32m--> 442\u001b[0;31m                 \u001b[0mapplied\u001b[0m \u001b[0;34m=\u001b[0m \u001b[0mgetattr\u001b[0m\u001b[0;34m(\u001b[0m\u001b[0mb\u001b[0m\u001b[0;34m,\u001b[0m \u001b[0mf\u001b[0m\u001b[0;34m)\u001b[0m\u001b[0;34m(\u001b[0m\u001b[0;34m**\u001b[0m\u001b[0mkwargs\u001b[0m\u001b[0;34m)\u001b[0m\u001b[0;34m\u001b[0m\u001b[0;34m\u001b[0m\u001b[0m\n\u001b[0m\u001b[1;32m    443\u001b[0m             \u001b[0mresult_blocks\u001b[0m \u001b[0;34m=\u001b[0m \u001b[0m_extend_blocks\u001b[0m\u001b[0;34m(\u001b[0m\u001b[0mapplied\u001b[0m\u001b[0;34m,\u001b[0m \u001b[0mresult_blocks\u001b[0m\u001b[0;34m)\u001b[0m\u001b[0;34m\u001b[0m\u001b[0;34m\u001b[0m\u001b[0m\n\u001b[1;32m    444\u001b[0m \u001b[0;34m\u001b[0m\u001b[0m\n",
      "\u001b[0;32m~/.local/lib/python3.7/site-packages/pandas/core/internals/blocks.py\u001b[0m in \u001b[0;36mastype\u001b[0;34m(self, dtype, copy, errors)\u001b[0m\n\u001b[1;32m    623\u001b[0m             \u001b[0mvals1d\u001b[0m \u001b[0;34m=\u001b[0m \u001b[0mvalues\u001b[0m\u001b[0;34m.\u001b[0m\u001b[0mravel\u001b[0m\u001b[0;34m(\u001b[0m\u001b[0;34m)\u001b[0m\u001b[0;34m\u001b[0m\u001b[0;34m\u001b[0m\u001b[0m\n\u001b[1;32m    624\u001b[0m             \u001b[0;32mtry\u001b[0m\u001b[0;34m:\u001b[0m\u001b[0;34m\u001b[0m\u001b[0;34m\u001b[0m\u001b[0m\n\u001b[0;32m--> 625\u001b[0;31m                 \u001b[0mvalues\u001b[0m \u001b[0;34m=\u001b[0m \u001b[0mastype_nansafe\u001b[0m\u001b[0;34m(\u001b[0m\u001b[0mvals1d\u001b[0m\u001b[0;34m,\u001b[0m \u001b[0mdtype\u001b[0m\u001b[0;34m,\u001b[0m \u001b[0mcopy\u001b[0m\u001b[0;34m=\u001b[0m\u001b[0;32mTrue\u001b[0m\u001b[0;34m)\u001b[0m\u001b[0;34m\u001b[0m\u001b[0;34m\u001b[0m\u001b[0m\n\u001b[0m\u001b[1;32m    626\u001b[0m             \u001b[0;32mexcept\u001b[0m \u001b[0;34m(\u001b[0m\u001b[0mValueError\u001b[0m\u001b[0;34m,\u001b[0m \u001b[0mTypeError\u001b[0m\u001b[0;34m)\u001b[0m\u001b[0;34m:\u001b[0m\u001b[0;34m\u001b[0m\u001b[0;34m\u001b[0m\u001b[0m\n\u001b[1;32m    627\u001b[0m                 \u001b[0;31m# e.g. astype_nansafe can fail on object-dtype of strings\u001b[0m\u001b[0;34m\u001b[0m\u001b[0;34m\u001b[0m\u001b[0;34m\u001b[0m\u001b[0m\n",
      "\u001b[0;32m~/.local/lib/python3.7/site-packages/pandas/core/dtypes/cast.py\u001b[0m in \u001b[0;36mastype_nansafe\u001b[0;34m(arr, dtype, copy, skipna)\u001b[0m\n\u001b[1;32m    895\u001b[0m     \u001b[0;32mif\u001b[0m \u001b[0mcopy\u001b[0m \u001b[0;32mor\u001b[0m \u001b[0mis_object_dtype\u001b[0m\u001b[0;34m(\u001b[0m\u001b[0marr\u001b[0m\u001b[0;34m)\u001b[0m \u001b[0;32mor\u001b[0m \u001b[0mis_object_dtype\u001b[0m\u001b[0;34m(\u001b[0m\u001b[0mdtype\u001b[0m\u001b[0;34m)\u001b[0m\u001b[0;34m:\u001b[0m\u001b[0;34m\u001b[0m\u001b[0;34m\u001b[0m\u001b[0m\n\u001b[1;32m    896\u001b[0m         \u001b[0;31m# Explicit copy, or required since NumPy can't view from / to object.\u001b[0m\u001b[0;34m\u001b[0m\u001b[0;34m\u001b[0m\u001b[0;34m\u001b[0m\u001b[0m\n\u001b[0;32m--> 897\u001b[0;31m         \u001b[0;32mreturn\u001b[0m \u001b[0marr\u001b[0m\u001b[0;34m.\u001b[0m\u001b[0mastype\u001b[0m\u001b[0;34m(\u001b[0m\u001b[0mdtype\u001b[0m\u001b[0;34m,\u001b[0m \u001b[0mcopy\u001b[0m\u001b[0;34m=\u001b[0m\u001b[0;32mTrue\u001b[0m\u001b[0;34m)\u001b[0m\u001b[0;34m\u001b[0m\u001b[0;34m\u001b[0m\u001b[0m\n\u001b[0m\u001b[1;32m    898\u001b[0m \u001b[0;34m\u001b[0m\u001b[0m\n\u001b[1;32m    899\u001b[0m     \u001b[0;32mreturn\u001b[0m \u001b[0marr\u001b[0m\u001b[0;34m.\u001b[0m\u001b[0mview\u001b[0m\u001b[0;34m(\u001b[0m\u001b[0mdtype\u001b[0m\u001b[0;34m)\u001b[0m\u001b[0;34m\u001b[0m\u001b[0;34m\u001b[0m\u001b[0m\n",
      "\u001b[0;31mValueError\u001b[0m: could not convert string to float: 'Оригинал'"
     ]
    }
   ],
   "source": [
    "cat_model()"
   ]
  },
  {
   "cell_type": "markdown",
   "metadata": {},
   "source": [
    "Можно заметить, что после обработки всех признаков модель уже показывает неплохие результаты по сравнению с Baseline(где MAPE > 0.11)"
   ]
  },
  {
   "cell_type": "markdown",
   "metadata": {},
   "source": [
    "# Feature engineering"
   ]
  },
  {
   "cell_type": "markdown",
   "metadata": {},
   "source": [
    "Посмотрим на корреляцию переменных и удалим сильно скоррелированные между собой  "
   ]
  },
  {
   "cell_type": "code",
   "execution_count": 151,
   "metadata": {},
   "outputs": [
    {
     "data": {
      "text/plain": [
       "<matplotlib.axes._subplots.AxesSubplot at 0x7ff928305210>"
      ]
     },
     "execution_count": 151,
     "metadata": {},
     "output_type": "execute_result"
    },
    {
     "data": {
      "image/png": "[encoded data removed]",
      "text/plain": [
       "<Figure size 864x576 with 2 Axes>"
      ]
     },
     "metadata": {
      "needs_background": "light"
     },
     "output_type": "display_data"
    }
   ],
   "source": [
    "plt.figure(figsize=[12,8])\n",
    "sns.heatmap(abs(df.corr())>0.6)"
   ]
  },
  {
   "cell_type": "code",
   "execution_count": 16,
   "metadata": {},
   "outputs": [],
   "source": [
    "drop_cols=drop_cols+['modelDate','engineDisplacement']"
   ]
  },
  {
   "cell_type": "code",
   "execution_count": 153,
   "metadata": {},
   "outputs": [
    {
     "data": {
      "text/plain": [
       "array(['mercedes', 'lexus', 'audi', 'bmw', 'volkswagen'], dtype=object)"
      ]
     },
     "execution_count": 153,
     "metadata": {},
     "output_type": "execute_result"
    }
   ],
   "source": [
    "df.brand.unique()"
   ]
  },
  {
   "cell_type": "markdown",
   "metadata": {},
   "source": [
    "Собрал информацию о брендах:\n",
    "- 1 в списке - страна: 1 - если Германия, 0 - другие\n",
    "- 2 в списке - количество заводов в России"
   ]
  },
  {
   "cell_type": "code",
   "execution_count": 154,
   "metadata": {},
   "outputs": [],
   "source": [
    "brand_info = {\n",
    "    'volkswagen': (1, 2),\n",
    "    'mercedes': (1, 1),\n",
    "    'lexus': (0, 0),\n",
    "    'audi': (1, 1),\n",
    "    'bmw': (1, 1)\n",
    "}"
   ]
  },
  {
   "cell_type": "code",
   "execution_count": 155,
   "metadata": {},
   "outputs": [],
   "source": [
    "df.loc[:,'brand_country']=None\n",
    "df.loc[:,'brand_factory_count']=None\n",
    "\n",
    "def fill_brand_info(row):\n",
    "    row.loc['brand_country']=brand_info[row.brand][0]\n",
    "    row.loc['brand_factory_count']=brand_info[row.brand][1]\n",
    "    return row\n",
    "df=df.apply(fill_brand_info,axis=1)"
   ]
  },
  {
   "cell_type": "markdown",
   "metadata": {},
   "source": [
    "Если посмотреть на получившиеся переменные, то видно, что они сильно скоррелированы между собой, поэтому одну необходимо убрать. "
   ]
  },
  {
   "cell_type": "code",
   "execution_count": 17,
   "metadata": {},
   "outputs": [],
   "source": [
    "drop_cols=drop_cols+['brand_country']"
   ]
  },
  {
   "cell_type": "code",
   "execution_count": 18,
   "metadata": {},
   "outputs": [],
   "source": [
    "cat_cols=cat_cols+['brand_factory_count']"
   ]
  },
  {
   "cell_type": "markdown",
   "metadata": {},
   "source": [
    "Добавим столбец информации о налогах для соответствующей мощности двигателя"
   ]
  },
  {
   "cell_type": "code",
   "execution_count": 158,
   "metadata": {},
   "outputs": [],
   "source": [
    "df.loc[:,'tax']=None\n",
    "def fill_tax(row):\n",
    "    if row.enginePower <= 100:\n",
    "        row.loc['tax']=12\n",
    "    elif row.enginePower > 100 and row.enginePower <=125: \n",
    "        row.loc['tax']=25\n",
    "    elif row.enginePower > 125 and row.enginePower <=150: \n",
    "        row.loc['tax']=35\n",
    "    elif row.enginePower > 150 and row.enginePower <=175: \n",
    "        row.loc['tax']=45\n",
    "    elif row.enginePower > 175 and row.enginePower <=200: \n",
    "        row.loc['tax']=50\n",
    "    elif row.enginePower > 200 and row.enginePower <=225: \n",
    "        row.loc['tax']=65\n",
    "    elif row.enginePower > 225 and row.enginePower <=250: \n",
    "        row.loc['tax']=75\n",
    "    elif row.enginePower > 250:\n",
    "        row.loc['tax']=150\n",
    "    return row\n",
    "df=df.apply(fill_tax,axis=1)"
   ]
  },
  {
   "cell_type": "code",
   "execution_count": 19,
   "metadata": {},
   "outputs": [],
   "source": [
    "cat_cols=cat_cols+['tax']"
   ]
  },
  {
   "cell_type": "markdown",
   "metadata": {},
   "source": [
    "Добавим полиномиальные признаки, которые дали небольшой прирост к RMSE"
   ]
  },
  {
   "cell_type": "code",
   "execution_count": 129,
   "metadata": {},
   "outputs": [
    {
     "name": "stdout",
     "output_type": "stream",
     "text": [
      "<class 'pandas.core.frame.DataFrame'>\n",
      "Int64Index: 41367 entries, 0 to 41403\n",
      "Data columns (total 26 columns):\n",
      " #   Column               Non-Null Count  Dtype  \n",
      "---  ------               --------------  -----  \n",
      " 0   bodyType             41367 non-null  object \n",
      " 1   brand                41367 non-null  object \n",
      " 2   color                41367 non-null  object \n",
      " 3   fuelType             41367 non-null  object \n",
      " 4   modelDate            41367 non-null  float64\n",
      " 5   name                 41367 non-null  object \n",
      " 6   numberOfDoors        41367 non-null  float64\n",
      " 7   productionDate       41367 non-null  float64\n",
      " 8   vehicleTransmission  41367 non-null  object \n",
      " 9   engineDisplacement   41367 non-null  float64\n",
      " 10  enginePower          41367 non-null  int64  \n",
      " 11  description          41363 non-null  object \n",
      " 12  mileage              41367 non-null  float64\n",
      " 13  Комплектация         41367 non-null  object \n",
      " 14  Привод               41367 non-null  object \n",
      " 15  Владельцы            41367 non-null  int64  \n",
      " 16  ПТС                  41367 non-null  object \n",
      " 17  Владение             41367 non-null  float64\n",
      " 18  id                   3837 non-null   float64\n",
      " 19  hrefs                41367 non-null  object \n",
      " 20  price                37530 non-null  float64\n",
      " 21  label                41367 non-null  int64  \n",
      " 22  date_difference      41367 non-null  float64\n",
      " 23  brand_country        41367 non-null  int64  \n",
      " 24  brand_factory_count  41367 non-null  int64  \n",
      " 25  tax                  41367 non-null  int64  \n",
      "dtypes: float64(9), int64(6), object(11)\n",
      "memory usage: 8.5+ MB\n"
     ]
    }
   ],
   "source": [
    "df.info()"
   ]
  },
  {
   "cell_type": "code",
   "execution_count": 161,
   "metadata": {},
   "outputs": [],
   "source": [
    "df.reset_index(inplace=True,drop=True)\n",
    "best_comb = []\n",
    "local_num_cols=num_cols.copy()\n",
    "local_num_cols.remove('modelDate')\n",
    "local_num_cols.remove('engineDisplacement')\n",
    "for comb in list(combinations(local_num_cols, 2)):\n",
    "    comb = list(comb)\n",
    "    pf = PolynomialFeatures(2)\n",
    "    poly = pd.DataFrame(pf.fit_transform(df[df['label'] == 1][comb]))\n",
    "    res = pd.concat([df[df['label'] == 1], poly.iloc[:, :]],\n",
    "                    axis=1).corr()['price'].iloc[-2]\n",
    "    if res > 0.2:\n",
    "        best_comb.append(comb)\n",
    "for comb in best_comb:\n",
    "    pf = PolynomialFeatures(2)\n",
    "    poly = pd.DataFrame(pf.fit_transform(df[comb]))\n",
    "    feature=poly.iloc[:, [4]]\n",
    "    feature.columns=list([comb[0]+'+'+comb[1]])\n",
    "    num_cols=num_cols+list([comb[0]+'+'+comb[1]])\n",
    "    df = pd.concat([df, feature], axis=1)"
   ]
  },
  {
   "cell_type": "code",
   "execution_count": 137,
   "metadata": {},
   "outputs": [
    {
     "data": {
      "text/plain": [
       "modelDate                     0.597401\n",
       "numberOfDoors                 0.158288\n",
       "productionDate                0.597401\n",
       "engineDisplacement            0.309274\n",
       "enginePower                   0.486019\n",
       "mileage                      -0.530359\n",
       "Владельцы                    -0.443742\n",
       "Владение                     -0.235548\n",
       "id                                 NaN\n",
       "price                         1.000000\n",
       "label                              NaN\n",
       "date_difference                    NaN\n",
       "brand_country                -0.211716\n",
       "brand_factory_count          -0.269442\n",
       "tax                           0.399226\n",
       "productionDate+enginePower    0.490483\n",
       "Name: price, dtype: float64"
      ]
     },
     "execution_count": 137,
     "metadata": {},
     "output_type": "execute_result"
    }
   ],
   "source": [
    "df.corr()['price']"
   ]
  },
  {
   "cell_type": "code",
   "execution_count": 138,
   "metadata": {},
   "outputs": [
    {
     "data": {
      "text/plain": [
       "<matplotlib.axes._subplots.AxesSubplot at 0x7ff9305c4fd0>"
      ]
     },
     "execution_count": 138,
     "metadata": {},
     "output_type": "execute_result"
    },
    {
     "data": {
      "image/png": "[encoded data removed]",
      "text/plain": [
       "<Figure size 864x576 with 2 Axes>"
      ]
     },
     "metadata": {
      "needs_background": "light"
     },
     "output_type": "display_data"
    }
   ],
   "source": [
    "plt.figure(figsize=[12,8])\n",
    "sns.heatmap(abs(df.corr())>0.9)"
   ]
  },
  {
   "cell_type": "code",
   "execution_count": 20,
   "metadata": {},
   "outputs": [
    {
     "ename": "ValueError",
     "evalue": "invalid literal for int() with base 10: '2004.0'",
     "output_type": "error",
     "traceback": [
      "\u001b[0;31m---------------------------------------------------------------------------\u001b[0m",
      "\u001b[0;31mValueError\u001b[0m                                Traceback (most recent call last)",
      "\u001b[0;32m<ipython-input-20-bd0cb9c17072>\u001b[0m in \u001b[0;36m<module>\u001b[0;34m\u001b[0m\n\u001b[0;32m----> 1\u001b[0;31m \u001b[0mcat_model\u001b[0m\u001b[0;34m(\u001b[0m\u001b[0;34m)\u001b[0m\u001b[0;34m\u001b[0m\u001b[0;34m\u001b[0m\u001b[0m\n\u001b[0m",
      "\u001b[0;32m<ipython-input-14-4bc2445b9905>\u001b[0m in \u001b[0;36mcat_model\u001b[0;34m()\u001b[0m\n\u001b[1;32m      1\u001b[0m \u001b[0;32mdef\u001b[0m \u001b[0mcat_model\u001b[0m\u001b[0;34m(\u001b[0m\u001b[0;34m)\u001b[0m\u001b[0;34m:\u001b[0m\u001b[0;34m\u001b[0m\u001b[0;34m\u001b[0m\u001b[0m\n\u001b[0;32m----> 2\u001b[0;31m     \u001b[0mtest\u001b[0m\u001b[0;34m,\u001b[0m\u001b[0mtrain\u001b[0m\u001b[0;34m,\u001b[0m\u001b[0mcat_scaler\u001b[0m\u001b[0;34m=\u001b[0m\u001b[0mcat_preproc\u001b[0m\u001b[0;34m(\u001b[0m\u001b[0mdf\u001b[0m\u001b[0;34m.\u001b[0m\u001b[0mcopy\u001b[0m\u001b[0;34m(\u001b[0m\u001b[0;34m)\u001b[0m\u001b[0;34m)\u001b[0m\u001b[0;34m\u001b[0m\u001b[0;34m\u001b[0m\u001b[0m\n\u001b[0m\u001b[1;32m      3\u001b[0m     X_train, X_test, y_train, y_test = train_test_split(train.drop(['price'],\n\u001b[1;32m      4\u001b[0m                                                               axis=1),\n\u001b[1;32m      5\u001b[0m                                                     \u001b[0mtrain\u001b[0m\u001b[0;34m[\u001b[0m\u001b[0;34m'price'\u001b[0m\u001b[0;34m]\u001b[0m\u001b[0;34m,\u001b[0m\u001b[0;34m\u001b[0m\u001b[0;34m\u001b[0m\u001b[0m\n",
      "\u001b[0;32m<ipython-input-13-8ec45a61d60a>\u001b[0m in \u001b[0;36mcat_preproc\u001b[0;34m(test)\u001b[0m\n\u001b[1;32m      1\u001b[0m \u001b[0;32mdef\u001b[0m \u001b[0mcat_preproc\u001b[0m\u001b[0;34m(\u001b[0m\u001b[0mtest\u001b[0m\u001b[0;34m)\u001b[0m\u001b[0;34m:\u001b[0m\u001b[0;34m\u001b[0m\u001b[0;34m\u001b[0m\u001b[0m\n\u001b[1;32m      2\u001b[0m     \u001b[0;32mfor\u001b[0m \u001b[0mfeature\u001b[0m \u001b[0;32min\u001b[0m \u001b[0mnum_cols\u001b[0m\u001b[0;34m+\u001b[0m\u001b[0;34m[\u001b[0m\u001b[0;34m'numberOfDoors'\u001b[0m\u001b[0;34m]\u001b[0m\u001b[0;34m:\u001b[0m\u001b[0;34m\u001b[0m\u001b[0;34m\u001b[0m\u001b[0m\n\u001b[0;32m----> 3\u001b[0;31m         \u001b[0mtest\u001b[0m\u001b[0;34m[\u001b[0m\u001b[0mfeature\u001b[0m\u001b[0;34m]\u001b[0m\u001b[0;34m=\u001b[0m\u001b[0mtest\u001b[0m\u001b[0;34m[\u001b[0m\u001b[0mfeature\u001b[0m\u001b[0;34m]\u001b[0m\u001b[0;34m.\u001b[0m\u001b[0mastype\u001b[0m\u001b[0;34m(\u001b[0m\u001b[0;34m'int32'\u001b[0m\u001b[0;34m)\u001b[0m\u001b[0;34m\u001b[0m\u001b[0;34m\u001b[0m\u001b[0m\n\u001b[0m\u001b[1;32m      4\u001b[0m \u001b[0;34m\u001b[0m\u001b[0m\n\u001b[1;32m      5\u001b[0m     \u001b[0msc\u001b[0m\u001b[0;34m=\u001b[0m\u001b[0mStandardScaler\u001b[0m\u001b[0;34m(\u001b[0m\u001b[0;34m)\u001b[0m\u001b[0;34m\u001b[0m\u001b[0;34m\u001b[0m\u001b[0m\n",
      "\u001b[0;32m~/.local/lib/python3.7/site-packages/pandas/core/generic.py\u001b[0m in \u001b[0;36mastype\u001b[0;34m(self, dtype, copy, errors)\u001b[0m\n\u001b[1;32m   5696\u001b[0m         \u001b[0;32melse\u001b[0m\u001b[0;34m:\u001b[0m\u001b[0;34m\u001b[0m\u001b[0;34m\u001b[0m\u001b[0m\n\u001b[1;32m   5697\u001b[0m             \u001b[0;31m# else, only a single dtype is given\u001b[0m\u001b[0;34m\u001b[0m\u001b[0;34m\u001b[0m\u001b[0;34m\u001b[0m\u001b[0m\n\u001b[0;32m-> 5698\u001b[0;31m             \u001b[0mnew_data\u001b[0m \u001b[0;34m=\u001b[0m \u001b[0mself\u001b[0m\u001b[0;34m.\u001b[0m\u001b[0m_data\u001b[0m\u001b[0;34m.\u001b[0m\u001b[0mastype\u001b[0m\u001b[0;34m(\u001b[0m\u001b[0mdtype\u001b[0m\u001b[0;34m=\u001b[0m\u001b[0mdtype\u001b[0m\u001b[0;34m,\u001b[0m \u001b[0mcopy\u001b[0m\u001b[0;34m=\u001b[0m\u001b[0mcopy\u001b[0m\u001b[0;34m,\u001b[0m \u001b[0merrors\u001b[0m\u001b[0;34m=\u001b[0m\u001b[0merrors\u001b[0m\u001b[0;34m)\u001b[0m\u001b[0;34m\u001b[0m\u001b[0;34m\u001b[0m\u001b[0m\n\u001b[0m\u001b[1;32m   5699\u001b[0m             \u001b[0;32mreturn\u001b[0m \u001b[0mself\u001b[0m\u001b[0;34m.\u001b[0m\u001b[0m_constructor\u001b[0m\u001b[0;34m(\u001b[0m\u001b[0mnew_data\u001b[0m\u001b[0;34m)\u001b[0m\u001b[0;34m.\u001b[0m\u001b[0m__finalize__\u001b[0m\u001b[0;34m(\u001b[0m\u001b[0mself\u001b[0m\u001b[0;34m)\u001b[0m\u001b[0;34m\u001b[0m\u001b[0;34m\u001b[0m\u001b[0m\n\u001b[1;32m   5700\u001b[0m \u001b[0;34m\u001b[0m\u001b[0m\n",
      "\u001b[0;32m~/.local/lib/python3.7/site-packages/pandas/core/internals/managers.py\u001b[0m in \u001b[0;36mastype\u001b[0;34m(self, dtype, copy, errors)\u001b[0m\n\u001b[1;32m    580\u001b[0m \u001b[0;34m\u001b[0m\u001b[0m\n\u001b[1;32m    581\u001b[0m     \u001b[0;32mdef\u001b[0m \u001b[0mastype\u001b[0m\u001b[0;34m(\u001b[0m\u001b[0mself\u001b[0m\u001b[0;34m,\u001b[0m \u001b[0mdtype\u001b[0m\u001b[0;34m,\u001b[0m \u001b[0mcopy\u001b[0m\u001b[0;34m:\u001b[0m \u001b[0mbool\u001b[0m \u001b[0;34m=\u001b[0m \u001b[0;32mFalse\u001b[0m\u001b[0;34m,\u001b[0m \u001b[0merrors\u001b[0m\u001b[0;34m:\u001b[0m \u001b[0mstr\u001b[0m \u001b[0;34m=\u001b[0m \u001b[0;34m\"raise\"\u001b[0m\u001b[0;34m)\u001b[0m\u001b[0;34m:\u001b[0m\u001b[0;34m\u001b[0m\u001b[0;34m\u001b[0m\u001b[0m\n\u001b[0;32m--> 582\u001b[0;31m         \u001b[0;32mreturn\u001b[0m \u001b[0mself\u001b[0m\u001b[0;34m.\u001b[0m\u001b[0mapply\u001b[0m\u001b[0;34m(\u001b[0m\u001b[0;34m\"astype\"\u001b[0m\u001b[0;34m,\u001b[0m \u001b[0mdtype\u001b[0m\u001b[0;34m=\u001b[0m\u001b[0mdtype\u001b[0m\u001b[0;34m,\u001b[0m \u001b[0mcopy\u001b[0m\u001b[0;34m=\u001b[0m\u001b[0mcopy\u001b[0m\u001b[0;34m,\u001b[0m \u001b[0merrors\u001b[0m\u001b[0;34m=\u001b[0m\u001b[0merrors\u001b[0m\u001b[0;34m)\u001b[0m\u001b[0;34m\u001b[0m\u001b[0;34m\u001b[0m\u001b[0m\n\u001b[0m\u001b[1;32m    583\u001b[0m \u001b[0;34m\u001b[0m\u001b[0m\n\u001b[1;32m    584\u001b[0m     \u001b[0;32mdef\u001b[0m \u001b[0mconvert\u001b[0m\u001b[0;34m(\u001b[0m\u001b[0mself\u001b[0m\u001b[0;34m,\u001b[0m \u001b[0;34m**\u001b[0m\u001b[0mkwargs\u001b[0m\u001b[0;34m)\u001b[0m\u001b[0;34m:\u001b[0m\u001b[0;34m\u001b[0m\u001b[0;34m\u001b[0m\u001b[0m\n",
      "\u001b[0;32m~/.local/lib/python3.7/site-packages/pandas/core/internals/managers.py\u001b[0m in \u001b[0;36mapply\u001b[0;34m(self, f, filter, **kwargs)\u001b[0m\n\u001b[1;32m    440\u001b[0m                 \u001b[0mapplied\u001b[0m \u001b[0;34m=\u001b[0m \u001b[0mb\u001b[0m\u001b[0;34m.\u001b[0m\u001b[0mapply\u001b[0m\u001b[0;34m(\u001b[0m\u001b[0mf\u001b[0m\u001b[0;34m,\u001b[0m \u001b[0;34m**\u001b[0m\u001b[0mkwargs\u001b[0m\u001b[0;34m)\u001b[0m\u001b[0;34m\u001b[0m\u001b[0;34m\u001b[0m\u001b[0m\n\u001b[1;32m    441\u001b[0m             \u001b[0;32melse\u001b[0m\u001b[0;34m:\u001b[0m\u001b[0;34m\u001b[0m\u001b[0;34m\u001b[0m\u001b[0m\n\u001b[0;32m--> 442\u001b[0;31m                 \u001b[0mapplied\u001b[0m \u001b[0;34m=\u001b[0m \u001b[0mgetattr\u001b[0m\u001b[0;34m(\u001b[0m\u001b[0mb\u001b[0m\u001b[0;34m,\u001b[0m \u001b[0mf\u001b[0m\u001b[0;34m)\u001b[0m\u001b[0;34m(\u001b[0m\u001b[0;34m**\u001b[0m\u001b[0mkwargs\u001b[0m\u001b[0;34m)\u001b[0m\u001b[0;34m\u001b[0m\u001b[0;34m\u001b[0m\u001b[0m\n\u001b[0m\u001b[1;32m    443\u001b[0m             \u001b[0mresult_blocks\u001b[0m \u001b[0;34m=\u001b[0m \u001b[0m_extend_blocks\u001b[0m\u001b[0;34m(\u001b[0m\u001b[0mapplied\u001b[0m\u001b[0;34m,\u001b[0m \u001b[0mresult_blocks\u001b[0m\u001b[0;34m)\u001b[0m\u001b[0;34m\u001b[0m\u001b[0;34m\u001b[0m\u001b[0m\n\u001b[1;32m    444\u001b[0m \u001b[0;34m\u001b[0m\u001b[0m\n",
      "\u001b[0;32m~/.local/lib/python3.7/site-packages/pandas/core/internals/blocks.py\u001b[0m in \u001b[0;36mastype\u001b[0;34m(self, dtype, copy, errors)\u001b[0m\n\u001b[1;32m    623\u001b[0m             \u001b[0mvals1d\u001b[0m \u001b[0;34m=\u001b[0m \u001b[0mvalues\u001b[0m\u001b[0;34m.\u001b[0m\u001b[0mravel\u001b[0m\u001b[0;34m(\u001b[0m\u001b[0;34m)\u001b[0m\u001b[0;34m\u001b[0m\u001b[0;34m\u001b[0m\u001b[0m\n\u001b[1;32m    624\u001b[0m             \u001b[0;32mtry\u001b[0m\u001b[0;34m:\u001b[0m\u001b[0;34m\u001b[0m\u001b[0;34m\u001b[0m\u001b[0m\n\u001b[0;32m--> 625\u001b[0;31m                 \u001b[0mvalues\u001b[0m \u001b[0;34m=\u001b[0m \u001b[0mastype_nansafe\u001b[0m\u001b[0;34m(\u001b[0m\u001b[0mvals1d\u001b[0m\u001b[0;34m,\u001b[0m \u001b[0mdtype\u001b[0m\u001b[0;34m,\u001b[0m \u001b[0mcopy\u001b[0m\u001b[0;34m=\u001b[0m\u001b[0;32mTrue\u001b[0m\u001b[0;34m)\u001b[0m\u001b[0;34m\u001b[0m\u001b[0;34m\u001b[0m\u001b[0m\n\u001b[0m\u001b[1;32m    626\u001b[0m             \u001b[0;32mexcept\u001b[0m \u001b[0;34m(\u001b[0m\u001b[0mValueError\u001b[0m\u001b[0;34m,\u001b[0m \u001b[0mTypeError\u001b[0m\u001b[0;34m)\u001b[0m\u001b[0;34m:\u001b[0m\u001b[0;34m\u001b[0m\u001b[0;34m\u001b[0m\u001b[0m\n\u001b[1;32m    627\u001b[0m                 \u001b[0;31m# e.g. astype_nansafe can fail on object-dtype of strings\u001b[0m\u001b[0;34m\u001b[0m\u001b[0;34m\u001b[0m\u001b[0;34m\u001b[0m\u001b[0m\n",
      "\u001b[0;32m~/.local/lib/python3.7/site-packages/pandas/core/dtypes/cast.py\u001b[0m in \u001b[0;36mastype_nansafe\u001b[0;34m(arr, dtype, copy, skipna)\u001b[0m\n\u001b[1;32m    872\u001b[0m         \u001b[0;31m# work around NumPy brokenness, #1987\u001b[0m\u001b[0;34m\u001b[0m\u001b[0;34m\u001b[0m\u001b[0;34m\u001b[0m\u001b[0m\n\u001b[1;32m    873\u001b[0m         \u001b[0;32mif\u001b[0m \u001b[0mnp\u001b[0m\u001b[0;34m.\u001b[0m\u001b[0missubdtype\u001b[0m\u001b[0;34m(\u001b[0m\u001b[0mdtype\u001b[0m\u001b[0;34m.\u001b[0m\u001b[0mtype\u001b[0m\u001b[0;34m,\u001b[0m \u001b[0mnp\u001b[0m\u001b[0;34m.\u001b[0m\u001b[0minteger\u001b[0m\u001b[0;34m)\u001b[0m\u001b[0;34m:\u001b[0m\u001b[0;34m\u001b[0m\u001b[0;34m\u001b[0m\u001b[0m\n\u001b[0;32m--> 874\u001b[0;31m             \u001b[0;32mreturn\u001b[0m \u001b[0mlib\u001b[0m\u001b[0;34m.\u001b[0m\u001b[0mastype_intsafe\u001b[0m\u001b[0;34m(\u001b[0m\u001b[0marr\u001b[0m\u001b[0;34m.\u001b[0m\u001b[0mravel\u001b[0m\u001b[0;34m(\u001b[0m\u001b[0;34m)\u001b[0m\u001b[0;34m,\u001b[0m \u001b[0mdtype\u001b[0m\u001b[0;34m)\u001b[0m\u001b[0;34m.\u001b[0m\u001b[0mreshape\u001b[0m\u001b[0;34m(\u001b[0m\u001b[0marr\u001b[0m\u001b[0;34m.\u001b[0m\u001b[0mshape\u001b[0m\u001b[0;34m)\u001b[0m\u001b[0;34m\u001b[0m\u001b[0;34m\u001b[0m\u001b[0m\n\u001b[0m\u001b[1;32m    875\u001b[0m \u001b[0;34m\u001b[0m\u001b[0m\n\u001b[1;32m    876\u001b[0m         \u001b[0;31m# if we have a datetime/timedelta array of objects\u001b[0m\u001b[0;34m\u001b[0m\u001b[0;34m\u001b[0m\u001b[0;34m\u001b[0m\u001b[0m\n",
      "\u001b[0;32mpandas/_libs/lib.pyx\u001b[0m in \u001b[0;36mpandas._libs.lib.astype_intsafe\u001b[0;34m()\u001b[0m\n",
      "\u001b[0;31mValueError\u001b[0m: invalid literal for int() with base 10: '2004.0'"
     ]
    }
   ],
   "source": [
    "cat_model()"
   ]
  },
  {
   "cell_type": "markdown",
   "metadata": {},
   "source": [
    "Значительной прибавки к качеству не произошло"
   ]
  },
  {
   "cell_type": "code",
   "execution_count": 139,
   "metadata": {},
   "outputs": [],
   "source": [
    "def other_preproc(test):\n",
    "    for col in bin_cols:\n",
    "        test.loc[:, col] = LabelEncoder().fit_transform(test[col])\n",
    "\n",
    "    for col in num_cols:\n",
    "        scaler=StandardScaler()\n",
    "        scaler.fit(test[test.label==1][[col]])\n",
    "        test.loc[:, col] = scaler.transform(test[[col]])\n",
    "\n",
    "    for col in cat_cols:\n",
    "        test = pd.concat([test.drop(col, axis=1),\n",
    "                          pd.get_dummies(test[[col]])],\n",
    "                         axis=1)\n",
    "    sc=StandardScaler()\n",
    "    train=test[test.label==1]\n",
    "    test=test[test.label==0]\n",
    "    train.loc[:,'price']=sc.fit_transform(train[['price']])\n",
    "    train = train.drop(drop_cols, axis=1)\n",
    "    test_drop_cols=drop_cols.copy()\n",
    "    test_drop_cols.remove('id')\n",
    "    test = test.drop(test_drop_cols+['price'], axis=1)\n",
    "    return test,train,sc"
   ]
  },
  {
   "cell_type": "code",
   "execution_count": 140,
   "metadata": {},
   "outputs": [],
   "source": [
    "test,train,price_scaler=other_preproc(df.copy())"
   ]
  },
  {
   "cell_type": "code",
   "execution_count": 141,
   "metadata": {},
   "outputs": [],
   "source": [
    "X_train, X_test, y_train, y_test = train_test_split(train.drop(['price'],\n",
    "                                                              axis=1),\n",
    "                                                    train['price'],\n",
    "                                                    test_size=0.2,\n",
    "                                                    random_state=42,\n",
    "                                                   shuffle=True)"
   ]
  },
  {
   "cell_type": "code",
   "execution_count": 142,
   "metadata": {},
   "outputs": [],
   "source": [
    "def other_model(model):\n",
    "    model\n",
    "    model.fit(X_train, y_train)\n",
    "    y_pred = model.predict(X_test)\n",
    "    print(np.sqrt(mean_squared_error(y_test,y_pred)))\n",
    "    return model"
   ]
  },
  {
   "cell_type": "code",
   "execution_count": 143,
   "metadata": {},
   "outputs": [
    {
     "name": "stdout",
     "output_type": "stream",
     "text": [
      "0.2705018184788862\n"
     ]
    }
   ],
   "source": [
    "model=other_model(BaggingRegressor(ExtraTreeRegressor(random_state=42),random_state=42))"
   ]
  },
  {
   "cell_type": "markdown",
   "metadata": {},
   "source": [
    "kaggle_result=model.predict(test)\n",
    "kaggle_result=price_scaler.inverse_transform(kaggle_result)\n",
    "kaggle_result=kaggle_result/1.2\n",
    "submit=pd.DataFrame(pd.Series(kaggle_result),index=test['id'].astype('int32'),columns=['price'])\n",
    "\n",
    "submit.to_csv('kaggle_result_2.csv')"
   ]
  },
  {
   "cell_type": "code",
   "execution_count": 114,
   "metadata": {},
   "outputs": [
    {
     "name": "stdout",
     "output_type": "stream",
     "text": [
      "0.2671823810579127\n"
     ]
    }
   ],
   "source": [
    "model=other_model(RandomForestRegressor(random_state=42))"
   ]
  },
  {
   "cell_type": "code",
   "execution_count": 170,
   "metadata": {},
   "outputs": [
    {
     "ename": "NameError",
     "evalue": "name 'RandomizedSearchCV' is not defined",
     "output_type": "error",
     "traceback": [
      "\u001b[0;31m---------------------------------------------------------------------------\u001b[0m",
      "\u001b[0;31mNameError\u001b[0m                                 Traceback (most recent call last)",
      "\u001b[0;32m<ipython-input-170-8de017508a75>\u001b[0m in \u001b[0;36m<module>\u001b[0;34m\u001b[0m\n\u001b[1;32m     13\u001b[0m                'bootstrap': bootstrap}\n\u001b[1;32m     14\u001b[0m \u001b[0mrf\u001b[0m \u001b[0;34m=\u001b[0m \u001b[0mRandomForestRegressor\u001b[0m\u001b[0;34m(\u001b[0m\u001b[0;34m)\u001b[0m\u001b[0;34m\u001b[0m\u001b[0;34m\u001b[0m\u001b[0m\n\u001b[0;32m---> 15\u001b[0;31m rf_random = RandomizedSearchCV(estimator = rf, \n\u001b[0m\u001b[1;32m     16\u001b[0m                                \u001b[0mparam_distributions\u001b[0m \u001b[0;34m=\u001b[0m \u001b[0mrandom_grid\u001b[0m\u001b[0;34m,\u001b[0m\u001b[0;34m\u001b[0m\u001b[0;34m\u001b[0m\u001b[0m\n\u001b[1;32m     17\u001b[0m                                \u001b[0mn_iter\u001b[0m \u001b[0;34m=\u001b[0m \u001b[0;36m100\u001b[0m\u001b[0;34m,\u001b[0m\u001b[0;34m\u001b[0m\u001b[0;34m\u001b[0m\u001b[0m\n",
      "\u001b[0;31mNameError\u001b[0m: name 'RandomizedSearchCV' is not defined"
     ]
    }
   ],
   "source": [
    "n_estimators = [int(x) for x in np.linspace(start = 100, stop = 1500, num = 50)]\n",
    "max_features = ['auto', 'sqrt', 'log2']\n",
    "max_depth = [int(x) for x in np.linspace(10, 110, num = 11)]\n",
    "max_depth.append(None)\n",
    "min_samples_split = [2, 5, 10]\n",
    "min_samples_leaf = [1, 2, 4]\n",
    "bootstrap = [True, False]\n",
    "random_grid = {'n_estimators': n_estimators,\n",
    "               'max_features': max_features,\n",
    "               'max_depth': max_depth,\n",
    "               'min_samples_split': min_samples_split,\n",
    "               'min_samples_leaf': min_samples_leaf,\n",
    "               'bootstrap': bootstrap}\n",
    "rf = RandomForestRegressor()\n",
    "rf_random = GridSerachCV(estimator = rf, \n",
    "                               param_distributions = random_grid, \n",
    "                               n_iter = 100, \n",
    "                               cv = 3, \n",
    "                               verbose=2, \n",
    "                               random_state=RANDOM_SEED, \n",
    "                            n_jobs = 2)\n",
    "rf_random.fit(X_train, y_train)"
   ]
  },
  {
   "cell_type": "code",
   "execution_count": null,
   "metadata": {},
   "outputs": [],
   "source": []
  }
 ],
 "metadata": {
  "kernelspec": {
   "display_name": "Python 3",
   "language": "python",
   "name": "python3"
  },
  "language_info": {
   "codemirror_mode": {
    "name": "ipython",
    "version": 3
   },
   "file_extension": ".py",
   "mimetype": "text/x-python",
   "name": "python",
   "nbconvert_exporter": "python",
   "pygments_lexer": "ipython3",
   "version": "3.7.6"
  },
  "varInspector": {
   "cols": {
    "lenName": 16,
    "lenType": 16,
    "lenVar": 40
   },
   "kernels_config": {
    "python": {
     "delete_cmd_postfix": "",
     "delete_cmd_prefix": "del ",
     "library": "var_list.py",
     "varRefreshCmd": "print(var_dic_list())"
    },
    "r": {
     "delete_cmd_postfix": ") ",
     "delete_cmd_prefix": "rm(",
     "library": "var_list.r",
     "varRefreshCmd": "cat(var_dic_list()) "
    }
   },
   "types_to_exclude": [
    "module",
    "function",
    "builtin_function_or_method",
    "instance",
    "_Feature"
   ],
   "window_display": true
  }
 },
 "nbformat": 4,
 "nbformat_minor": 4
}
