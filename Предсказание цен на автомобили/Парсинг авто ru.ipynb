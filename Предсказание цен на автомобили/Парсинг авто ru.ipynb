{
 "cells": [
  {
   "cell_type": "code",
   "execution_count": 1,
   "metadata": {},
   "outputs": [],
   "source": [
    "import numpy as np  # linear algebra\n",
    "import pandas as pd  # data processing, CSV file I/O (e.g. pd.read_csv)\n",
    "import sys\n",
    "from sklearn.model_selection import train_test_split\n",
    "from sklearn.model_selection import KFold\n",
    "from tqdm.notebook import *\n",
    "import requests\n",
    "from bs4 import BeautifulSoup\n",
    "from multiprocessing import Pool\n",
    "import pdb\n",
    "import re\n",
    "import csv\n",
    "import warnings"
   ]
  },
  {
   "cell_type": "code",
   "execution_count": 2,
   "metadata": {},
   "outputs": [],
   "source": [
    "from selenium import webdriver\n",
    "from selenium.webdriver.support.ui import WebDriverWait\n",
    "from selenium.webdriver.common.by import By\n",
    "from selenium.webdriver.support import expected_conditions as EC"
   ]
  },
  {
   "cell_type": "markdown",
   "metadata": {},
   "source": [
    "Ссылки на объявления спарсим с помощью selenium"
   ]
  },
  {
   "cell_type": "code",
   "execution_count": 25,
   "metadata": {},
   "outputs": [],
   "source": [
    "driver = webdriver.Firefox(\n",
    "    executable_path=\n",
    "    r'/home/vlad/anaconda3/lib/python3.7/site-packages/selenium/geckodriver')\n",
    "#driver=webdriver.Chrome(executable_path=r'/usr/bin/google-chrome')\n",
    "driver.get('https://auto.ru/')"
   ]
  },
  {
   "cell_type": "code",
   "execution_count": null,
   "metadata": {},
   "outputs": [],
   "source": [
    "show_all_bttn = driver.find_element_by_class_name('IndexMarks__show-all')\n",
    "show_all_bttn.click()\n",
    "data_name = driver.find_elements_by_class_name('IndexMarks__item-name')\n",
    "data_count = driver.find_elements_by_class_name('IndexMarks__item-count')\n",
    "\n",
    "data_name = list(map(lambda x: x.text, data_name))\n",
    "data_count = list(map(lambda x: x.text, data_count))\n",
    "\n",
    "data_dict = {}\n",
    "for i in range(len(data_name)):\n",
    "    try:\n",
    "        data_dict[data_name[i]] = data_count[i]\n",
    "    except IndexError:\n",
    "        data_dict[data_name[i]] = 0\n",
    "\n",
    "car_list_df = pd.DataFrame(pd.Series(data_dict, dtype='int64'))\n",
    "car_list_df.columns = ['Count']\n",
    "\n",
    "car_list_df = car_list_df[car_list_df['Count'] > 1000]\n",
    "car_list_df.to_csv('car_list_df.csv')"
   ]
  },
  {
   "cell_type": "markdown",
   "metadata": {},
   "source": [
    "На данном этапе можно вручную определить фильтры на сайте auto.ru и развернуть список моделей"
   ]
  },
  {
   "cell_type": "code",
   "execution_count": 26,
   "metadata": {},
   "outputs": [],
   "source": [
    "def parse_mark_hrefs(mark):\n",
    "    driver.get(f'https://auto.ru/cars/{mark}/all/')\n",
    "    input('Выберите необходимые фильтры на сайте')\n",
    "    models = driver.find_elements_by_class_name(\n",
    "        'ListingPopularMMM-module__itemName')\n",
    "    counts = driver.find_elements_by_class_name(\n",
    "        'ListingPopularMMM-module__itemCount')\n",
    "    models_dict = {}\n",
    "    for i in range(len(models)):\n",
    "        models_dict[models[i].get_attribute('href')] = int(counts[i].text)\n",
    "\n",
    "    mark_hrefs = []\n",
    "    for href in models_dict.keys():\n",
    "        driver.get(href)\n",
    "        count = 1\n",
    "        convertible_href = href.split('?')\n",
    "        for _ in tqdm(range((models_dict[href] // 38) + 1)):\n",
    "            a_elems = driver.find_elements_by_tag_name('a')\n",
    "            for a in a_elems:\n",
    "                if a.get_attribute(\n",
    "                        'class') == 'Link ListingItemTitle-module__link':\n",
    "                    mark_hrefs.append(a.get_attribute('href'))\n",
    "            count += 1\n",
    "            url = f'{convertible_href[0]}?page={count}&{convertible_href[1]}'\n",
    "            driver.get(url)\n",
    "\n",
    "    mark_series = pd.Series(mark_hrefs, name='hrefs')\n",
    "\n",
    "    mark_series.to_csv(f'{mark}_series.csv')\n",
    "\n",
    "    return mark_series"
   ]
  },
  {
   "cell_type": "markdown",
   "metadata": {},
   "source": [
    "Выберем приближенные по классу к BMW марки "
   ]
  },
  {
   "cell_type": "code",
   "execution_count": 3,
   "metadata": {},
   "outputs": [],
   "source": [
    "marks = ['mercedes', 'lexus', 'audi', 'bmw','volkswagen']"
   ]
  },
  {
   "cell_type": "code",
   "execution_count": 32,
   "metadata": {
    "scrolled": true
   },
   "outputs": [
    {
     "name": "stdout",
     "output_type": "stream",
     "text": [
      "Выберите необходимые фильтры на сайте\n"
     ]
    },
    {
     "data": {
      "application/vnd.jupyter.widget-view+json": {
       "model_id": "09aa41c0699f4c278a8254b179af300c",
       "version_major": 2,
       "version_minor": 0
      },
      "text/plain": [
       "HBox(children=(FloatProgress(value=0.0, max=8.0), HTML(value='')))"
      ]
     },
     "metadata": {},
     "output_type": "display_data"
    },
    {
     "name": "stdout",
     "output_type": "stream",
     "text": [
      "\n"
     ]
    },
    {
     "data": {
      "application/vnd.jupyter.widget-view+json": {
       "model_id": "c8215221060443bfa6041e89c13ec588",
       "version_major": 2,
       "version_minor": 0
      },
      "text/plain": [
       "HBox(children=(FloatProgress(value=0.0, max=9.0), HTML(value='')))"
      ]
     },
     "metadata": {},
     "output_type": "display_data"
    },
    {
     "name": "stdout",
     "output_type": "stream",
     "text": [
      "\n"
     ]
    },
    {
     "data": {
      "application/vnd.jupyter.widget-view+json": {
       "model_id": "a7fca6d6d17846c988dd3ad4b067db69",
       "version_major": 2,
       "version_minor": 0
      },
      "text/plain": [
       "HBox(children=(FloatProgress(value=0.0, max=39.0), HTML(value='')))"
      ]
     },
     "metadata": {},
     "output_type": "display_data"
    },
    {
     "name": "stdout",
     "output_type": "stream",
     "text": [
      "\n"
     ]
    },
    {
     "data": {
      "application/vnd.jupyter.widget-view+json": {
       "model_id": "1aa08c7ba5af4b7ab44404613a07424d",
       "version_major": 2,
       "version_minor": 0
      },
      "text/plain": [
       "HBox(children=(FloatProgress(value=0.0, max=29.0), HTML(value='')))"
      ]
     },
     "metadata": {},
     "output_type": "display_data"
    },
    {
     "name": "stdout",
     "output_type": "stream",
     "text": [
      "\n"
     ]
    },
    {
     "data": {
      "application/vnd.jupyter.widget-view+json": {
       "model_id": "01b718887d8a47bf9c2a577fbac8cf8f",
       "version_major": 2,
       "version_minor": 0
      },
      "text/plain": [
       "HBox(children=(FloatProgress(value=0.0, max=9.0), HTML(value='')))"
      ]
     },
     "metadata": {},
     "output_type": "display_data"
    },
    {
     "name": "stdout",
     "output_type": "stream",
     "text": [
      "\n"
     ]
    },
    {
     "data": {
      "application/vnd.jupyter.widget-view+json": {
       "model_id": "c908cbafeacf4fc38d8f726e39387292",
       "version_major": 2,
       "version_minor": 0
      },
      "text/plain": [
       "HBox(children=(FloatProgress(value=0.0, max=97.0), HTML(value='')))"
      ]
     },
     "metadata": {},
     "output_type": "display_data"
    },
    {
     "name": "stdout",
     "output_type": "stream",
     "text": [
      "\n"
     ]
    },
    {
     "data": {
      "application/vnd.jupyter.widget-view+json": {
       "model_id": "09b598de99b24d9db110ae7e5ba7c032",
       "version_major": 2,
       "version_minor": 0
      },
      "text/plain": [
       "HBox(children=(FloatProgress(value=0.0, max=10.0), HTML(value='')))"
      ]
     },
     "metadata": {},
     "output_type": "display_data"
    },
    {
     "name": "stdout",
     "output_type": "stream",
     "text": [
      "\n"
     ]
    },
    {
     "data": {
      "application/vnd.jupyter.widget-view+json": {
       "model_id": "2e3e47a507464a2299b5487e736714e4",
       "version_major": 2,
       "version_minor": 0
      },
      "text/plain": [
       "HBox(children=(FloatProgress(value=0.0, max=55.0), HTML(value='')))"
      ]
     },
     "metadata": {},
     "output_type": "display_data"
    },
    {
     "name": "stdout",
     "output_type": "stream",
     "text": [
      "\n"
     ]
    },
    {
     "data": {
      "application/vnd.jupyter.widget-view+json": {
       "model_id": "026b458580cd43de9e9ddf92ee715842",
       "version_major": 2,
       "version_minor": 0
      },
      "text/plain": [
       "HBox(children=(FloatProgress(value=0.0, max=31.0), HTML(value='')))"
      ]
     },
     "metadata": {},
     "output_type": "display_data"
    },
    {
     "name": "stdout",
     "output_type": "stream",
     "text": [
      "\n"
     ]
    },
    {
     "data": {
      "application/vnd.jupyter.widget-view+json": {
       "model_id": "d128379ab581476da20b3fc6a43e2233",
       "version_major": 2,
       "version_minor": 0
      },
      "text/plain": [
       "HBox(children=(FloatProgress(value=0.0, max=37.0), HTML(value='')))"
      ]
     },
     "metadata": {},
     "output_type": "display_data"
    },
    {
     "name": "stdout",
     "output_type": "stream",
     "text": [
      "\n"
     ]
    },
    {
     "data": {
      "application/vnd.jupyter.widget-view+json": {
       "model_id": "ba784f7c69f14075a26be65806186c91",
       "version_major": 2,
       "version_minor": 0
      },
      "text/plain": [
       "HBox(children=(FloatProgress(value=0.0, max=15.0), HTML(value='')))"
      ]
     },
     "metadata": {},
     "output_type": "display_data"
    },
    {
     "name": "stdout",
     "output_type": "stream",
     "text": [
      "\n"
     ]
    }
   ],
   "source": [
    "for mark in marks:\n",
    "    parse_mark_hrefs(mark)"
   ]
  },
  {
   "cell_type": "code",
   "execution_count": 4,
   "metadata": {},
   "outputs": [],
   "source": [
    "data_marks = []\n",
    "for i in range(len(marks)):\n",
    "    mark = pd.read_csv(f'{marks[i]}_series.csv', index_col=0)\n",
    "    mark.loc[:, 'brand'] = marks[i]\n",
    "    data_marks.append(mark)\n",
    "df = pd.concat(data_marks, axis=0)\n",
    "\n",
    "df.drop_duplicates(inplace=True)\n",
    "df.reset_index(inplace=True, drop=True)"
   ]
  },
  {
   "cell_type": "code",
   "execution_count": 5,
   "metadata": {},
   "outputs": [
    {
     "data": {
      "text/html": [
       "<div>\n",
       "<style scoped>\n",
       "    .dataframe tbody tr th:only-of-type {\n",
       "        vertical-align: middle;\n",
       "    }\n",
       "\n",
       "    .dataframe tbody tr th {\n",
       "        vertical-align: top;\n",
       "    }\n",
       "\n",
       "    .dataframe thead th {\n",
       "        text-align: right;\n",
       "    }\n",
       "</style>\n",
       "<table border=\"1\" class=\"dataframe\">\n",
       "  <thead>\n",
       "    <tr style=\"text-align: right;\">\n",
       "      <th></th>\n",
       "      <th>hrefs</th>\n",
       "      <th>brand</th>\n",
       "    </tr>\n",
       "  </thead>\n",
       "  <tbody>\n",
       "    <tr>\n",
       "      <th>0</th>\n",
       "      <td>https://auto.ru/cars/used/sale/mercedes/a_klas...</td>\n",
       "      <td>mercedes</td>\n",
       "    </tr>\n",
       "    <tr>\n",
       "      <th>1</th>\n",
       "      <td>https://auto.ru/cars/used/sale/mercedes/a_klas...</td>\n",
       "      <td>mercedes</td>\n",
       "    </tr>\n",
       "    <tr>\n",
       "      <th>2</th>\n",
       "      <td>https://auto.ru/cars/used/sale/mercedes/a_klas...</td>\n",
       "      <td>mercedes</td>\n",
       "    </tr>\n",
       "    <tr>\n",
       "      <th>3</th>\n",
       "      <td>https://auto.ru/cars/used/sale/mercedes/a_klas...</td>\n",
       "      <td>mercedes</td>\n",
       "    </tr>\n",
       "    <tr>\n",
       "      <th>4</th>\n",
       "      <td>https://auto.ru/cars/used/sale/mercedes/a_klas...</td>\n",
       "      <td>mercedes</td>\n",
       "    </tr>\n",
       "    <tr>\n",
       "      <th>...</th>\n",
       "      <td>...</td>\n",
       "      <td>...</td>\n",
       "    </tr>\n",
       "    <tr>\n",
       "      <th>40011</th>\n",
       "      <td>https://auto.ru/cars/used/sale/volkswagen/tran...</td>\n",
       "      <td>volkswagen</td>\n",
       "    </tr>\n",
       "    <tr>\n",
       "      <th>40012</th>\n",
       "      <td>https://auto.ru/cars/used/sale/volkswagen/tran...</td>\n",
       "      <td>volkswagen</td>\n",
       "    </tr>\n",
       "    <tr>\n",
       "      <th>40013</th>\n",
       "      <td>https://auto.ru/cars/used/sale/volkswagen/tran...</td>\n",
       "      <td>volkswagen</td>\n",
       "    </tr>\n",
       "    <tr>\n",
       "      <th>40014</th>\n",
       "      <td>https://auto.ru/cars/used/sale/volkswagen/tran...</td>\n",
       "      <td>volkswagen</td>\n",
       "    </tr>\n",
       "    <tr>\n",
       "      <th>40015</th>\n",
       "      <td>https://auto.ru/cars/used/sale/volkswagen/tran...</td>\n",
       "      <td>volkswagen</td>\n",
       "    </tr>\n",
       "  </tbody>\n",
       "</table>\n",
       "<p>40016 rows × 2 columns</p>\n",
       "</div>"
      ],
      "text/plain": [
       "                                                   hrefs       brand\n",
       "0      https://auto.ru/cars/used/sale/mercedes/a_klas...    mercedes\n",
       "1      https://auto.ru/cars/used/sale/mercedes/a_klas...    mercedes\n",
       "2      https://auto.ru/cars/used/sale/mercedes/a_klas...    mercedes\n",
       "3      https://auto.ru/cars/used/sale/mercedes/a_klas...    mercedes\n",
       "4      https://auto.ru/cars/used/sale/mercedes/a_klas...    mercedes\n",
       "...                                                  ...         ...\n",
       "40011  https://auto.ru/cars/used/sale/volkswagen/tran...  volkswagen\n",
       "40012  https://auto.ru/cars/used/sale/volkswagen/tran...  volkswagen\n",
       "40013  https://auto.ru/cars/used/sale/volkswagen/tran...  volkswagen\n",
       "40014  https://auto.ru/cars/used/sale/volkswagen/tran...  volkswagen\n",
       "40015  https://auto.ru/cars/used/sale/volkswagen/tran...  volkswagen\n",
       "\n",
       "[40016 rows x 2 columns]"
      ]
     },
     "execution_count": 5,
     "metadata": {},
     "output_type": "execute_result"
    }
   ],
   "source": [
    "df"
   ]
  },
  {
   "cell_type": "markdown",
   "metadata": {},
   "source": [
    "Теперь напишем функции для парсинга самих объявлений "
   ]
  },
  {
   "cell_type": "code",
   "execution_count": 6,
   "metadata": {},
   "outputs": [],
   "source": [
    "def parse_page(url):\n",
    "    try:\n",
    "        base_inf, characters_link = parse_base_inf(url)\n",
    "\n",
    "        characters_inf, equipment_link = parse_characters_inf(characters_link)\n",
    "\n",
    "        equipment_inf = parse_equipment_inf(equipment_link)\n",
    "\n",
    "    except TypeError:\n",
    "        return dict(), list()\n",
    "    all_inf = {**base_inf, **characters_inf}\n",
    "\n",
    "    return all_inf, equipment_inf"
   ]
  },
  {
   "cell_type": "markdown",
   "metadata": {},
   "source": [
    "response=requests.get('https://auto.ru/cars/used/sale/bmw/5er/1101802277-7ea1e36c/')\n",
    "response.encoding = 'unicode'\n",
    "soup=BeautifulSoup(response.text,'html.parser')\n",
    "soup.find('span',class_='OfferPriceCaption__price').text.replace('\\xa0', ' ')"
   ]
  },
  {
   "cell_type": "markdown",
   "metadata": {},
   "source": [
    "Сбор базовой информации"
   ]
  },
  {
   "cell_type": "code",
   "execution_count": 7,
   "metadata": {},
   "outputs": [],
   "source": [
    "def parse_base_inf(url):\n",
    "    response = requests.get(url, headers={\n",
    "        'User-Agent': 'Mozilla/5.0',\n",
    "    })\n",
    "    response.encoding = 'unicode'\n",
    "    if response.status_code != 200:\n",
    "        return 0\n",
    "    try:\n",
    "        soup = BeautifulSoup(response.text, 'html.parser')\n",
    "        base_inf = []\n",
    "        data = list(\n",
    "            map(\n",
    "                lambda x: x.find_all('span'),\n",
    "                soup.find_all(\n",
    "                    'li', {\n",
    "                        'class':\n",
    "                        lambda x: x and 'CardInfoRow CardInfoRow' in x.split(\n",
    "                            '_')\n",
    "                    })))\n",
    "        for parent in data:\n",
    "            base_inf.append(\n",
    "                list(map(lambda x: x.text.replace('\\xa0', ' '), parent)))\n",
    "\n",
    "        catalog_link = soup.find(\n",
    "            'a',\n",
    "            class_='Link SpoilerLink CardCatalogLink SpoilerLink_type_default'\n",
    "        ).get('href')\n",
    "        base_inf = dict(base_inf)\n",
    "        base_inf['description'] = soup.find(\n",
    "            'div', class_='CardDescription__textInner').get_text()\n",
    "        base_inf['price']=soup.find('span',class_='OfferPriceCaption__price').text.replace('\\xa0', ' ')\n",
    "    except AttributeError:\n",
    "        return 0\n",
    "    return base_inf, catalog_link"
   ]
  },
  {
   "cell_type": "markdown",
   "metadata": {},
   "source": [
    "Сбор информации о характеристиках"
   ]
  },
  {
   "cell_type": "code",
   "execution_count": 8,
   "metadata": {},
   "outputs": [],
   "source": [
    "def parse_characters_inf(url):\n",
    "    response = requests.get(url, headers={\n",
    "        'User-Agent': 'Mozilla/5.0',\n",
    "    })\n",
    "    if response.status_code != 200:\n",
    "        return 0\n",
    "    response.encoding = 'unicode'\n",
    "    try:\n",
    "        soup = BeautifulSoup(response.text, 'html.parser')\n",
    "        labels = soup.find_all('dt', class_='list-values__label')\n",
    "        values = soup.find_all('dd', class_='list-values__value')\n",
    "        characters_dict = {}\n",
    "        for i in range(len(labels)):\n",
    "            characters_dict[labels[i].text] = values[i].text.replace(\n",
    "                '\\u2009', '')\n",
    "        #pdb.set_trace()\n",
    "        equipment_link = soup.find_all(\n",
    "            'a', {\n",
    "                'class':\n",
    "                lambda x: x and 'link link_pseudo catalog-tab-item tabs' in x.\n",
    "                split('__')\n",
    "            })[-1].get('href')\n",
    "        characters_dict['name'] = soup.find(\n",
    "            'h1', class_='catalog__title sidebar2__block').text\n",
    "    except AttributeError:\n",
    "        return 0\n",
    "    return characters_dict, equipment_link"
   ]
  },
  {
   "cell_type": "markdown",
   "metadata": {},
   "source": [
    "Сбор информации о комплектации"
   ]
  },
  {
   "cell_type": "code",
   "execution_count": 9,
   "metadata": {},
   "outputs": [],
   "source": [
    "def parse_equipment_inf(url):\n",
    "    #pdb.set_trace()\n",
    "    response = requests.get(url, headers={\n",
    "        'User-Agent': 'Mozilla/5.0',\n",
    "    })\n",
    "    if response.status_code != 200:\n",
    "        return 0\n",
    "    response.encoding = 'unicode'\n",
    "    equipment_list = []\n",
    "    try:\n",
    "        soup = BeautifulSoup(response.text, 'html.parser')\n",
    "        data = soup.find_all('div', class_='catalog__package-group clearfix')\n",
    "        for elem in data:\n",
    "            elem_dict = {}\n",
    "            elem_dict[elem.find('h3', class_='catalog__h3').text.replace(\n",
    "                '\\u2009', '')] = list(\n",
    "                    map(lambda x: x.text,\n",
    "                        elem.find_all('li', class_='catalog__package-list-i')))\n",
    "            equipment_list.append(elem_dict)\n",
    "    except AttributeError:\n",
    "        return 0\n",
    "    return equipment_list"
   ]
  },
  {
   "cell_type": "markdown",
   "metadata": {},
   "source": [
    "Создадим csv файл, куда будем записывать результат"
   ]
  },
  {
   "cell_type": "code",
   "execution_count": 17,
   "metadata": {},
   "outputs": [],
   "source": [
    "test = pd.read_csv('test.csv')\n",
    "train = pd.DataFrame(columns=list(test.columns) + ['hrefs','price'])\n",
    "cols = train.columns"
   ]
  },
  {
   "cell_type": "code",
   "execution_count": 18,
   "metadata": {},
   "outputs": [],
   "source": [
    "train.to_csv('train.csv', index=False)"
   ]
  },
  {
   "cell_type": "markdown",
   "metadata": {},
   "source": [
    "Структурируем полученную информацию"
   ]
  },
  {
   "cell_type": "code",
   "execution_count": 13,
   "metadata": {},
   "outputs": [],
   "source": [
    "def from_dict_to_dataframe(row):\n",
    "    characters, equipment = parse_page(row[0])\n",
    "    new_row = pd.Series(index=cols)\n",
    "    new_row['Комплектация'] = str(equipment)\n",
    "    new_row['brand'] = row[1]\n",
    "    new_row['hrefs'] = row[0]\n",
    "    new_row['id'] = np.nan\n",
    "    try:\n",
    "        new_row['bodyType'] = characters['Кузов']\n",
    "    except KeyError:\n",
    "        new_row['bodyType'] = np.nan\n",
    "    try:\n",
    "        new_row['color'] = characters['Цвет']\n",
    "    except KeyError:\n",
    "        new_row['color'] = np.nan\n",
    "    try:\n",
    "        new_row['fuelType'] = characters['Тип двигателя']\n",
    "    except KeyError:\n",
    "        new_row['fuelType'] = np.nan\n",
    "    try:\n",
    "        new_row['modelDate'] =  re.findall(pattern=r'.*?\\(\\d{4} – \\d{4}\\)',\n",
    "                                     string=characters['name'])[0]\n",
    "    except KeyError:\n",
    "        new_row['modelDate'] = np.nan\n",
    "    try:\n",
    "        new_row['name'] =  characters['год выпуска']\n",
    "    except LookupError:\n",
    "        new_row['name'] = np.nan\n",
    "    try:\n",
    "        new_row['numberOfDoors'] = characters['Количество дверей']\n",
    "    except KeyError:\n",
    "        new_row['numberOfDoors'] = np.nan\n",
    "    try:\n",
    "        new_row['productionDate'] = re.findall(pattern=r'\\d{4}',\n",
    "                                               string=characters['name'])[0]\n",
    "    except LookupError:\n",
    "        new_row['productionDate'] = np.nan\n",
    "    try:\n",
    "        new_row['vehicleTransmission'] = characters['Коробка']\n",
    "    except KeyError:\n",
    "        new_row['vehicleTransmission'] = np.nan\n",
    "    try:\n",
    "        new_row['enginePower'] = characters['Мощность']\n",
    "    except KeyError:\n",
    "        new_row['enginePower'] = np.nan\n",
    "    try:\n",
    "        new_row['engineDisplacement'] = characters['Объем']\n",
    "    except KeyError:\n",
    "        new_row['engineDisplacement'] = np.nan\n",
    "    try:\n",
    "        new_row['description'] = characters['description']\n",
    "    except KeyError:\n",
    "        new_row['description'] = np.nan\n",
    "    try:\n",
    "        new_row['mileage'] = characters['Пробег']\n",
    "    except KeyError:\n",
    "        new_row['mileage'] = np.nan\n",
    "    try:\n",
    "        new_row['Привод'] = characters['Привод']\n",
    "    except KeyError:\n",
    "        new_row['Привод'] = np.nan\n",
    "    try:\n",
    "        new_row['Руль'] = characters['Руль']\n",
    "    except KeyError:\n",
    "        new_row['Руль'] = np.nan\n",
    "    try:\n",
    "        new_row['Состояние'] = characters['Состояние']\n",
    "    except KeyError:\n",
    "        new_row['Состояние'] = np.nan\n",
    "    try:\n",
    "        new_row['Владельцы'] = characters['Владельцы']\n",
    "    except KeyError:\n",
    "        new_row['Владельцы'] = np.nan\n",
    "    try:\n",
    "        new_row['ПТС'] = characters['ПТС']\n",
    "    except KeyError:\n",
    "        new_row['ПТС'] = np.nan\n",
    "    try:\n",
    "        new_row['Таможня'] = characters['Таможня']\n",
    "    except KeyError:\n",
    "        new_row['Таможня'] = np.nan\n",
    "    try:\n",
    "        new_row['Владение'] = characters['Владение']\n",
    "    except KeyError:\n",
    "        new_row['Владение'] = np.nan\n",
    "    try:\n",
    "        new_row['price'] = characters['price']\n",
    "    except KeyError:\n",
    "        new_row['price']=np.nan\n",
    "    write_csv(new_row)\n",
    "    return True"
   ]
  },
  {
   "cell_type": "markdown",
   "metadata": {},
   "source": [
    "Функция записи в файл"
   ]
  },
  {
   "cell_type": "code",
   "execution_count": 14,
   "metadata": {},
   "outputs": [],
   "source": [
    "def write_csv(data):\n",
    "    with open('train.csv', 'a') as f:\n",
    "        writer = csv.writer(f)\n",
    "        writer.writerow(data)"
   ]
  },
  {
   "cell_type": "markdown",
   "metadata": {},
   "source": [
    "Парсинг осуществляем в 12 потоков с отображением шкалы "
   ]
  },
  {
   "cell_type": "code",
   "execution_count": 15,
   "metadata": {},
   "outputs": [],
   "source": [
    "def main():\n",
    "    with Pool(12) as p:\n",
    "        trash = list(\n",
    "            tqdm(p.imap(from_dict_to_dataframe, df.values),\n",
    "                 total=len(df)))"
   ]
  },
  {
   "cell_type": "code",
   "execution_count": 19,
   "metadata": {
    "scrolled": true
   },
   "outputs": [
    {
     "data": {
      "application/vnd.jupyter.widget-view+json": {
       "model_id": "2abb4d8da65543dfaabd774ae77098e6",
       "version_major": 2,
       "version_minor": 0
      },
      "text/plain": [
       "HBox(children=(FloatProgress(value=0.0, max=40016.0), HTML(value='')))"
      ]
     },
     "metadata": {},
     "output_type": "display_data"
    },
    {
     "name": "stdout",
     "output_type": "stream",
     "text": [
      "\n"
     ]
    }
   ],
   "source": [
    "warnings.filterwarnings('ignore')\n",
    "main()"
   ]
  },
  {
   "cell_type": "markdown",
   "metadata": {},
   "source": [
    "Смотрим, что получилось"
   ]
  },
  {
   "cell_type": "code",
   "execution_count": 20,
   "metadata": {},
   "outputs": [],
   "source": [
    "train = pd.read_csv('train.csv')"
   ]
  },
  {
   "cell_type": "code",
   "execution_count": 21,
   "metadata": {},
   "outputs": [
    {
     "name": "stdout",
     "output_type": "stream",
     "text": [
      "<class 'pandas.core.frame.DataFrame'>\n",
      "RangeIndex: 40016 entries, 0 to 40015\n",
      "Data columns (total 25 columns):\n",
      " #   Column                Non-Null Count  Dtype  \n",
      "---  ------                --------------  -----  \n",
      " 0   bodyType              37567 non-null  object \n",
      " 1   brand                 40016 non-null  object \n",
      " 2   color                 37567 non-null  object \n",
      " 3   fuelType              37567 non-null  object \n",
      " 4   modelDate             37567 non-null  float64\n",
      " 5   name                  34525 non-null  object \n",
      " 6   numberOfDoors         37567 non-null  float64\n",
      " 7   productionDate        37567 non-null  float64\n",
      " 8   vehicleConfiguration  0 non-null      float64\n",
      " 9   vehicleTransmission   37567 non-null  object \n",
      " 10  engineDisplacement    37565 non-null  object \n",
      " 11  enginePower           37567 non-null  object \n",
      " 12  description           37563 non-null  object \n",
      " 13  mileage               37567 non-null  object \n",
      " 14  Комплектация          40016 non-null  object \n",
      " 15  Привод                37567 non-null  object \n",
      " 16  Руль                  37567 non-null  object \n",
      " 17  Состояние             37567 non-null  object \n",
      " 18  Владельцы             37563 non-null  object \n",
      " 19  ПТС                   37566 non-null  object \n",
      " 20  Таможня               37567 non-null  object \n",
      " 21  Владение              12573 non-null  object \n",
      " 22  id                    0 non-null      float64\n",
      " 23  hrefs                 40016 non-null  object \n",
      " 24  price                 37567 non-null  object \n",
      "dtypes: float64(5), object(20)\n",
      "memory usage: 7.6+ MB\n"
     ]
    }
   ],
   "source": [
    "train.info()"
   ]
  }
 ],
 "metadata": {
  "kernelspec": {
   "display_name": "Python 3",
   "language": "python",
   "name": "python3"
  },
  "language_info": {
   "codemirror_mode": {
    "name": "ipython",
    "version": 3
   },
   "file_extension": ".py",
   "mimetype": "text/x-python",
   "name": "python",
   "nbconvert_exporter": "python",
   "pygments_lexer": "ipython3",
   "version": "3.7.6"
  },
  "varInspector": {
   "cols": {
    "lenName": 16,
    "lenType": 16,
    "lenVar": 40
   },
   "kernels_config": {
    "python": {
     "delete_cmd_postfix": "",
     "delete_cmd_prefix": "del ",
     "library": "var_list.py",
     "varRefreshCmd": "print(var_dic_list())"
    },
    "r": {
     "delete_cmd_postfix": ") ",
     "delete_cmd_prefix": "rm(",
     "library": "var_list.r",
     "varRefreshCmd": "cat(var_dic_list()) "
    }
   },
   "types_to_exclude": [
    "module",
    "function",
    "builtin_function_or_method",
    "instance",
    "_Feature"
   ],
   "window_display": true
  }
 },
 "nbformat": 4,
 "nbformat_minor": 4
}
